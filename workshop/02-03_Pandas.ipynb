{
 "cells": [
  {
   "cell_type": "markdown",
   "metadata": {},
   "source": [
    "# Как выжить на титанике\n",
    "\n",
    "---\n",
    "\n",
    "Эта тетрадка научит тебя использовать pandas и выживать при кораблекрушении.\n",
    "\n",
    "Начнём!"
   ]
  },
  {
   "cell_type": "markdown",
   "metadata": {},
   "source": [
    "## загрузим данные c Pandas"
   ]
  },
  {
   "cell_type": "code",
   "execution_count": null,
   "metadata": {
    "collapsed": false
   },
   "outputs": [],
   "source": [
    "#подключим модуль Pandas. Он нужен, чтобы работать с данными\n",
    "import pandas\n",
    "\n",
    "#считаем данные\n",
    "data = pandas.DataFrame.from_csv(\"titanic.csv\")"
   ]
  },
  {
   "cell_type": "code",
   "execution_count": null,
   "metadata": {
    "collapsed": false
   },
   "outputs": [],
   "source": [
    "#Данные - таблица, двумерный массив\n",
    "data[:10]"
   ]
  },
  {
   "cell_type": "markdown",
   "metadata": {},
   "source": [
    "## Расшифровка колонок\n",
    "* Survived - выжил ли человек\n",
    "* Pclass - класс, которым человек путешествовал\n",
    "* Name - имя(строка)\n",
    "* Sex - пол, а не то, что ты подумал - строка male/female\n",
    "* Age - возраст\n",
    "* Sibsp - число родственников на корабле\n",
    "* Parch - число родителей на корабле\n",
    "* Ticket - билет (строка-шифр)\n",
    "* Fare - сколько стоил билет\n",
    "* Cabin - номер каюты, если есть\n",
    "* Embarked - порт, в котором человек зашёл на борт\n",
    " * C = Cherbourg; Q = Queenstown; S = Southampton\n",
    "\n",
    "В некоторых колонках встречается NaN - значит, что у данного человека данная колонка неизвестна (квест - найти их глазами в данных выше)"
   ]
  },
  {
   "cell_type": "code",
   "execution_count": null,
   "metadata": {
    "collapsed": false
   },
   "outputs": [],
   "source": [
    "#размеры таблицы\n",
    "print \"len(data) = \",len(data)\n",
    "print \"data.shape = \",data.shape"
   ]
  },
  {
   "cell_type": "code",
   "execution_count": null,
   "metadata": {
    "collapsed": false
   },
   "outputs": [],
   "source": [
    "#вот так можно получить четвёртую строку таблицы, считая с нуля\n",
    "print data.irow(4)"
   ]
  },
  {
   "cell_type": "code",
   "execution_count": null,
   "metadata": {
    "collapsed": false
   },
   "outputs": [],
   "source": [
    "#первые 5 строк\n",
    "print data[0:5]"
   ]
  },
  {
   "cell_type": "code",
   "execution_count": null,
   "metadata": {
    "collapsed": false
   },
   "outputs": [],
   "source": [
    "#так можно получить второй столбец (считая с нуля)\n",
    "#print data.icol(2)\n",
    "#но проще - вот так:\n",
    "print data[\"Name\"]\n",
    "#или даже так: data.Name"
   ]
  },
  {
   "cell_type": "code",
   "execution_count": null,
   "metadata": {
    "collapsed": false
   },
   "outputs": [],
   "source": [
    "#несколько колонок, несколько строк\n",
    "data[[\"Sex\",\"Pclass\"]][5:10]"
   ]
  },
  {
   "cell_type": "markdown",
   "metadata": {},
   "source": [
    "## Теперь сам\n",
    "* выведи данные о 1, 13, 666 и последнем пассажире. Кто из них выжил?\n",
    "\n",
    "\n",
    "* выведи данные о столбике \"Survived\" - выжившие.\n",
    "* напиши программу, которая считает, сколько всего людей выжило и сколько всего людей было на корабле\n",
    "\n",
    "\n",
    "! Обрати внимание, что в данных может быть мусор (NaN, пустые значения) ! \n",
    "\n",
    "Их можно найти и удалить. Подумай (или погугли), как это сделать в питоне"
   ]
  },
  {
   "cell_type": "code",
   "execution_count": null,
   "metadata": {
    "collapsed": false
   },
   "outputs": [],
   "source": [
    "#<1,13, 666 и последний из пассажиров>"
   ]
  },
  {
   "cell_type": "code",
   "execution_count": null,
   "metadata": {
    "collapsed": false
   },
   "outputs": [],
   "source": [
    "#столбик"
   ]
  },
  {
   "cell_type": "code",
   "execution_count": null,
   "metadata": {
    "collapsed": false
   },
   "outputs": [],
   "source": [
    "#программа"
   ]
  },
  {
   "cell_type": "code",
   "execution_count": null,
   "metadata": {
    "collapsed": true
   },
   "outputs": [],
   "source": [
    "#Бонус - посчитай средний возраст людей на корабле (тут точно будет NaN)"
   ]
  },
  {
   "cell_type": "markdown",
   "metadata": {},
   "source": [
    "# Индексация\n",
    " * Можно выделять модмножество пассажиров по логическому признаку"
   ]
  },
  {
   "cell_type": "code",
   "execution_count": null,
   "metadata": {
    "collapsed": false
   },
   "outputs": [],
   "source": [
    "\n",
    "#логическое условие data.Sex == \"male\" - только мужчины\n",
    "data_males = data[data.Sex == \"male\"]\n",
    "\n",
    "\n",
    "# возраст меньше 18 (лет) - только дети\n",
    "data_children = data[data.Age < 18]"
   ]
  },
  {
   "cell_type": "markdown",
   "metadata": {},
   "source": [
    "# Аггрегации\n",
    " * Pandas умеет быстрои непринуждённо считать полезные характеристики данных\n",
    " * Среднее, минимум, максимум\n",
    " * Стандартное отклонение\n",
    " * Суммы\n",
    " * Квантили"
   ]
  },
  {
   "cell_type": "code",
   "execution_count": null,
   "metadata": {
    "collapsed": false
   },
   "outputs": [],
   "source": [
    "#быстро вывести удобный отчётик по всем данным\n",
    "data.describe()"
   ]
  },
  {
   "cell_type": "code",
   "execution_count": null,
   "metadata": {
    "collapsed": false
   },
   "outputs": [],
   "source": [
    "#или по отдельной колонке\n",
    "data_males = data[data.Sex==\"male\"]\n",
    "data_females = data[data.Sex==\"female\"]\n",
    "\n",
    "print \"мужчины\"\n",
    "print data_males[\"Age\"].describe()\n",
    "\n",
    "\n",
    "print\n",
    "print \"женщины\"\n",
    "print data_females[\"Age\"].describe()"
   ]
  },
  {
   "cell_type": "code",
   "execution_count": null,
   "metadata": {
    "collapsed": false
   },
   "outputs": [],
   "source": [
    "#считать статистические агрегации\n",
    "print \"Средний возраст\",data[\"Age\"].mean()\n",
    "print \"Медианный возраст\",data[\"Age\"].median()\n",
    "print \"Стандартное Отклонение:\", data[\"Age\"].std()\n",
    "print \"Квантиль 33\", data.Age.quantile(0.33)\n",
    "print \"Максимум, минимум\", data.Age.min(),data.Age.max()"
   ]
  },
  {
   "cell_type": "markdown",
   "metadata": {},
   "source": [
    "### Теперь сам\n",
    " * Посчитай среднюю, медианную, максимальную и минимальную цену билета у мужчин и женщин\n",
    " * Кто более жадный?\n",
    " \n",
    " * Посчитай те же статистики на цену билета у выживших и погибших\n",
    "    * выжил ли человек: `data[\"Survived\"] == 1`\n"
   ]
  },
  {
   "cell_type": "code",
   "execution_count": null,
   "metadata": {
    "collapsed": false
   },
   "outputs": [],
   "source": [
    "твой_код"
   ]
  },
  {
   "cell_type": "markdown",
   "metadata": {},
   "source": [
    "# Визуализация данных\n",
    "Что делать с миллионом пользователей?"
   ]
  },
  {
   "cell_type": "markdown",
   "metadata": {},
   "source": [
    "## У нас есть:\n",
    "\n",
    "* Пользователи – 10^6 штук\n",
    "\n",
    "\n",
    "* вопрос\n",
    " * Как меняется количество друзей с возрастом?\n",
    " * Сколько в сети активных, обычных и неактивных пользователей.\n",
    " * И сколько постов в неделю они пишут?\n",
    " * Как меняется аудитория сети со временем?\n",
    "\n",
    "\n",
    "* Пол часа времени\n"
   ]
  },
  {
   "cell_type": "code",
   "execution_count": null,
   "metadata": {
    "collapsed": false
   },
   "outputs": [],
   "source": [
    "# формат данных, ещё раз\n",
    "data[:10]"
   ]
  },
  {
   "cell_type": "markdown",
   "metadata": {},
   "source": [
    "## Что можно сделать?\n",
    "* Посчитать аггрегации\n",
    "  * Среднее, отклонения, квантили\n",
    "  * И ещё много умных слов\n"
   ]
  },
  {
   "cell_type": "markdown",
   "metadata": {},
   "source": [
    "![caption](images/salaries.png)\n",
    "![caption](images/enscomb-table.png)\n",
    "![caption](images/enscomb-charts.png)"
   ]
  },
  {
   "cell_type": "code",
   "execution_count": null,
   "metadata": {
    "collapsed": true
   },
   "outputs": [],
   "source": [
    "#библиотека для графиков\n",
    "import matplotlib.pyplot as plt\n",
    "%matplotlib inline"
   ]
  },
  {
   "cell_type": "markdown",
   "metadata": {},
   "source": [
    "# Line plot\n",
    "\n",
    "* На графике изображены линии\n",
    " * зависимость y(x) заданная по точкам\n",
    " \n",
    "\n",
    "* подходит для отображения временных рядов или порядка на данных"
   ]
  },
  {
   "cell_type": "code",
   "execution_count": null,
   "metadata": {
    "collapsed": false,
    "scrolled": true
   },
   "outputs": [],
   "source": [
    "#график функции y=x^2\n",
    "plt.plot([0,1,2,3,4,5],[0,1,4,9,16,25])"
   ]
  },
  {
   "cell_type": "code",
   "execution_count": null,
   "metadata": {
    "collapsed": false
   },
   "outputs": [],
   "source": [
    "\n",
    "#по x - порядковый номер пассажира по возрастанию возраста\n",
    "x = range(len(data))\n",
    "\n",
    "# по y - сам возраст\n",
    "y = sorted(data[\"Age\"].values)\n",
    "\n",
    "plt.plot( x, y )"
   ]
  },
  {
   "cell_type": "markdown",
   "metadata": {},
   "source": [
    "### Построй аналогичный график для цены билета \n",
    "* `df[\"Fare\"].values`"
   ]
  },
  {
   "cell_type": "code",
   "execution_count": null,
   "metadata": {
    "collapsed": true
   },
   "outputs": [],
   "source": [
    "#по x - порядковый номер пассажира по возрастанию цены билета (Fare)\n",
    "x = range(len(df))\n",
    "\n",
    "#по y - сама цена билета\n",
    "y = <массив из цен билетов в порядке их возрастания>\n",
    "\n",
    "<функция построения графика>"
   ]
  },
  {
   "cell_type": "code",
   "execution_count": null,
   "metadata": {
    "collapsed": false
   },
   "outputs": [],
   "source": [
    "# можно показывать несколько графиков \n",
    "\n",
    "#например, отдельные кривые для разных полов, портов и т.п.\n",
    "\n",
    "#выделим в отдельные таблицы мужчин и женщин\n",
    "data_male = data[data.Sex==\"male\"]\n",
    "data_female = data[data.Sex==\"female\"]\n",
    "\n",
    "\n",
    "#получаем массивы x и y\n",
    "#дамы вперёд\n",
    "x_female= range(len(data_female))\n",
    "y_female= sorted(data_female.Age)\n",
    "\n",
    "\n",
    "x_male= range(len(data_male))\n",
    "y_male= sorted(data_male.Age)"
   ]
  },
  {
   "cell_type": "code",
   "execution_count": null,
   "metadata": {
    "collapsed": false
   },
   "outputs": [],
   "source": [
    "#рисуем графики\n",
    "plt.plot(x_female,y_female,label=u\"Males\")\n",
    "plt.plot(x_male,y_male,label=u\"Females\")\n",
    "\n",
    "#отобразить названия линий (label)\n",
    "plt.legend()\n",
    "\n",
    "#добавляем название графика\n",
    "plt.title(\"Age curves\")\n",
    "\n"
   ]
  },
  {
   "cell_type": "markdown",
   "metadata": {},
   "source": [
    "# Scatter plot\n",
    " * График из точек по (x,y)\n",
    " \n",
    " * хорошо показывает структуру данных\n",
    " \n",
    " * плохо передаёт плотность\n",
    " \n",
    " * На подумать - можно ли отобразить больше 2 размерностей на плоском Scatter plot?\n",
    "   * Как это сделать?\n",
    "   * Какое наибольшее число размерностей можно уместить?"
   ]
  },
  {
   "cell_type": "code",
   "execution_count": null,
   "metadata": {
    "collapsed": false
   },
   "outputs": [],
   "source": [
    "x = data.Age\n",
    "y = data.Fare\n",
    "plt.scatter(x,y)\n",
    "\n",
    "#подпишем оси\n",
    "plt.xlabel(\"Age\")\n",
    "plt.ylabel(\"Ticket cost\")"
   ]
  },
  {
   "cell_type": "markdown",
   "metadata": {},
   "source": [
    "### Для более наглядного отображения плотностиможно использовать полупрозрачные точки"
   ]
  },
  {
   "cell_type": "code",
   "execution_count": null,
   "metadata": {
    "collapsed": false
   },
   "outputs": [],
   "source": [
    "x = data.Age\n",
    "y = data.Fare\n",
    "plt.scatter(x,y, alpha = 0.1) #изменения только в этой строчке\n",
    "\n",
    "#подпишем оси\n",
    "plt.xlabel(\"Age\")\n",
    "plt.ylabel(\"Ticket cost\")"
   ]
  },
  {
   "cell_type": "markdown",
   "metadata": {},
   "source": [
    "### Один из способов добавить третье измерение - цвет"
   ]
  },
  {
   "cell_type": "code",
   "execution_count": null,
   "metadata": {
    "collapsed": false
   },
   "outputs": [],
   "source": [
    "#в качестве цвета укажем, выжил ли человек\n",
    "color = data.Survived\n",
    "plt.scatter(data.Age,data.Fare,alpha = 0.5, c = color)"
   ]
  },
  {
   "cell_type": "code",
   "execution_count": null,
   "metadata": {
    "collapsed": false
   },
   "outputs": [],
   "source": [
    "#то же самое другим способом\n",
    "\n",
    "survived = data.Survived == 1\n",
    "\n",
    "\n",
    "plt.scatter(data[survived].Age,data[survived].Fare,alpha = 0.25, c = \"blue\")\n",
    "plt.scatter(data[~survived].Age,data[~survived].Fare,alpha = 0.25, c = \"red\")"
   ]
  },
  {
   "cell_type": "markdown",
   "metadata": {},
   "source": [
    "### Построй Scatter-plot зависимости числа родственников на корабле от возраста\n",
    " * Число росдтвенников - `df[\"SibSp\"]`"
   ]
  },
  {
   "cell_type": "code",
   "execution_count": null,
   "metadata": {
    "collapsed": true
   },
   "outputs": [],
   "source": [
    "x= возраст\n",
    "y = число родственников на корабле\n",
    "\n",
    "<функция построения графика>"
   ]
  },
  {
   "cell_type": "markdown",
   "metadata": {
    "collapsed": false
   },
   "source": [
    "# Гистограммы (Histograms)\n",
    " * данные делятся на интервалы (бины)\n",
    " * для каждого интервала считается, сколько точек попало в этот интервал\n",
    " * На графике показываются столбцы, соответствующие интервалам\n",
    "  * высота столбца пропорциональна числу попавших в него точек\n",
    "  \n",
    " * хорошо подходят для отображения плотности данных\n",
    " * требуют зафиксировать интервал\n",
    "  * при слижком большом интервале становятся трудноинтерпретируемы\n",
    "  * при слижком  малом - не демонстрируют низкоуровневую структуру данных"
   ]
  },
  {
   "cell_type": "code",
   "execution_count": null,
   "metadata": {
    "collapsed": false
   },
   "outputs": [],
   "source": [
    "#гистограмма возрастов\n",
    "plt.hist(data.Age.values)"
   ]
  },
  {
   "cell_type": "code",
   "execution_count": null,
   "metadata": {
    "collapsed": false
   },
   "outputs": [],
   "source": [
    "#изменяем количество интервалов (\"бинов\")\n",
    "_ = plt.hist(data.Age.values, bins=5)\n",
    "\n",
    "plt.show() #завершить предыдущий график и начать новый\n",
    "\n",
    "_ = plt.hist(data.Age.values, bins=50)\n",
    "\n",
    "plt.show() #завершить предыдущий график и начать новый\n",
    "\n",
    "_ = plt.hist(data.Age.values, bins=500)\n"
   ]
  },
  {
   "cell_type": "markdown",
   "metadata": {},
   "source": [
    "### Построй гистограмму цен\n",
    " * Подбери оптимальное количество бинов\n",
    " * Попробуй построить отдельные гистограммы для мужчин и женщин"
   ]
  },
  {
   "cell_type": "code",
   "execution_count": null,
   "metadata": {
    "collapsed": false
   },
   "outputs": [],
   "source": [
    "<построй гистограмму цен>"
   ]
  },
  {
   "cell_type": "code",
   "execution_count": null,
   "metadata": {
    "collapsed": false
   },
   "outputs": [],
   "source": [
    "<построй две гистограммы цен для мужчин и женщин>"
   ]
  },
  {
   "cell_type": "markdown",
   "metadata": {},
   "source": [
    "# интерактивные графики !\n",
    "\n",
    "* Можно приближать, выделять, дёргать не меняя код,\n",
    "\n",
    "* Способ компактно показать много информации,\n",
    "\n",
    "* Главное – не перестараться (об этом чуть позже)\n",
    "\n",
    "\n",
    "\n",
    "\n",
    "## Plotly\n",
    " * может практически всё\n",
    " * интерактивные графики, 3D графики\n",
    " * примеры - https://plot.ly/python/#basic-charts\n",
    " * строится \"в облаке\" и требует залогиниться\n",
    " * бесплатно даёт построить не более 50 графиков в день\n",
    " \n",
    " \n",
    " * Пример - тык https://plot.ly/python/3d-scatter-plots/\n",
    " \n",
    " \n",
    " \n",
    "## Bokeh\n",
    " * может всё то же, что и Plotly кроме простого 3D\n",
    " * примеры - http://nbviewer.jupyter.org/github/bokeh/bokeh-notebooks/blob/master/index.ipynb\n",
    " * всё строится без участия внешних ресурсов\n"
   ]
  },
  {
   "cell_type": "code",
   "execution_count": null,
   "metadata": {
    "collapsed": false
   },
   "outputs": [],
   "source": [
    "import interactive_bokeh_example"
   ]
  },
  {
   "cell_type": "code",
   "execution_count": null,
   "metadata": {
    "collapsed": false
   },
   "outputs": [],
   "source": [
    "import plotly\n",
    "\n",
    "import plotly.tools as tls \n",
    "tls.embed(\"https://plot.ly/~streaming-demos/4\")"
   ]
  },
  {
   "cell_type": "markdown",
   "metadata": {},
   "source": [
    "` `\n",
    "\n",
    "` `\n",
    "\n",
    "` `\n",
    "\n",
    "` `\n",
    "\n",
    "` `\n",
    "\n",
    "` `\n",
    "\n",
    "` `\n",
    "\n",
    "` `\n",
    "\n",
    "` `\n",
    "\n",
    "` `\n",
    "\n",
    "` `\n",
    "\n",
    "` `\n",
    "\n",
    "` `\n",
    "\n",
    "` `\n",
    "\n",
    "` `\n",
    "\n",
    "` `\n",
    "\n",
    "\n",
    "# Битва с финальным боссом\n",
    "\n",
    "При помощи интуиции, граффиков и вычислений попробуй выделить по признакам группу людей,\n",
    "в которой почти все выжили. \n",
    "\n",
    "Признаки - выражения вида:\n",
    "* [колонка] равно [значение] (пол = женский)\n",
    "* [математическое выражение] >, <, >= или <=  [значение]  (возраст старше 18 лет) (количество родственников минус родителей больше 1)\n",
    "* [колонка с именем] - [утверждение про имя]  (имя содержит \"Mr.\" и длинее 5 букв)\n",
    "\n",
    "Признаки могут использоваться через И и ИЛИ.\n",
    "\n",
    "(и только их. НЕ, импликация, XOR, эквивалентность, штрих Шифера и стрелка Пирса идут лесом)\n",
    "\n",
    "Например, все [старше 30 лет] И [из порта C] И ([родственников 0] ИЛИ [первый класс]) - это 4 признака\n",
    "\n",
    "При этом:\n",
    "* Чем больше выживших людей(количество, а не доля), тем лучше;\n",
    "* В группе обязательно должны выжить более 80% людей;\n",
    "* Желательно использовать не более 5 признаков;\n",
    " * Если нашёл более 1 такой группы - перечисли несколько;\n",
    "* Гипотеза должна подтверждаться запускабельным кодом, \n",
    " * который считает число людей и шанс выжить;\n",
    " * высший пилотаж - заправить это красивыми граффиками по теме;\n",
    "\n",
    "Напутствие - возможно, будет полезно сначала изучить данные, посмотреть на графики и обусдить идеи, а потом бросаться лихорадочно пробовать всё подряд."
   ]
  },
  {
   "cell_type": "code",
   "execution_count": null,
   "metadata": {
    "collapsed": false
   },
   "outputs": [],
   "source": [
    "#предварительные вычисления графики\n"
   ]
  },
  {
   "cell_type": "code",
   "execution_count": null,
   "metadata": {
    "collapsed": false
   },
   "outputs": [],
   "source": [
    "#пример для [старше 30 лет] И [из порта C] И ([родственников 0] ИЛИ [первый класс])\n",
    "\n",
    "data_with_age = data[~numpy.isnan(data.Age)]\n",
    "\n",
    "age_and_port = numpy.logical_and(data_with_age.Age > 30,data_with_age.Embarked == \"C\")\n",
    "\n",
    "#родственников на борту 0 или в первом классе\n",
    "sibsp_or_class = numpy.logical_or(data_with_age.SibSp ==0,data_with_age.Pclass ==1)\n",
    "\n",
    "#всё вместе\n",
    "group_indexer = numpy.logical_and(age_and_port,sibsp_or_class)\n",
    "\n",
    "#группа. Замените этот код на свою группу.\n",
    "group = data_with_age[group_indexer]\n"
   ]
  },
  {
   "cell_type": "code",
   "execution_count": null,
   "metadata": {
    "collapsed": false
   },
   "outputs": [],
   "source": [
    "print \"Количество человек:\",len(group)\n",
    "print \"Количество выживших:\", len(group[group.Survived == True])\n",
    "p_survived = numpy.average(group.Survived)\n",
    "print \"Вероятность выжить:\", p_survived\n",
    "print \"Достаточно выживших:\", p_survived > 0.8"
   ]
  },
  {
   "cell_type": "code",
   "execution_count": null,
   "metadata": {
    "collapsed": true
   },
   "outputs": [],
   "source": [
    "# Если ещё не устал - аналогично выдели группы людей, где все погибли"
   ]
  },
  {
   "cell_type": "markdown",
   "metadata": {},
   "source": [
    "[руководства по библиотекам]\n",
    "\n",
    "  * [NumPy](http://www.numpy.org/)\n",
    "    - [руководство для пользователей Matlab](http://wiki.scipy.org/NumPy_for_Matlab_Users)\n",
    "  * [Pandas](http://pandas.pydata.org/)\n",
    "    - [пример работы с данными при помощи pandas](http://nbviewer.ipython.org/github/agconti/kaggle-titanic/blob/master/Titanic.ipynb)\n",
    "  * [Matplotlib](http://matplotlib.org/index.html)\n",
    "    - [pyplot](http://matplotlib.org/api/pyplot_api.html) — эмуляция функционала графопостроений в Matlab\n",
    "    - [галерея примеров](http://matplotlib.org/gallery.html)\n",
    "  * [SciPy](http://scipy.org/)"
   ]
  }
 ],
 "metadata": {
  "kernelspec": {
   "display_name": "Python 2",
   "language": "python",
   "name": "python2"
  },
  "language_info": {
   "codemirror_mode": {
    "name": "ipython",
    "version": 2
   },
   "file_extension": ".py",
   "mimetype": "text/x-python",
   "name": "python",
   "nbconvert_exporter": "python",
   "pygments_lexer": "ipython2",
   "version": "2.7.6"
  }
 },
 "nbformat": 4,
 "nbformat_minor": 0
}
