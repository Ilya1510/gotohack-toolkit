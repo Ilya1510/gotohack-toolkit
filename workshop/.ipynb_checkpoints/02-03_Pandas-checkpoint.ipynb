{
 "cells": [
  {
   "cell_type": "markdown",
   "metadata": {},
   "source": [
    "# Как выжить на титанике\n",
    "\n",
    "---\n",
    "\n",
    "Эта тетрадка научит тебя использовать pandas и выживать при кораблекрушении.\n",
    "\n",
    "Начнём!"
   ]
  },
  {
   "cell_type": "markdown",
   "metadata": {},
   "source": [
    "## загрузим данные c Pandas"
   ]
  },
  {
   "cell_type": "code",
   "execution_count": 2,
   "metadata": {
    "collapsed": false
   },
   "outputs": [],
   "source": [
    "#подключим модуль Pandas. Он нужен, чтобы работать с данными\n",
    "import pandas\n",
    "\n",
    "#считаем данные\n",
    "data = pandas.DataFrame.from_csv(\"titanic.csv\")"
   ]
  },
  {
   "cell_type": "code",
   "execution_count": 3,
   "metadata": {
    "collapsed": false
   },
   "outputs": [
    {
     "data": {
      "text/html": [
       "<div>\n",
       "<table border=\"1\" class=\"dataframe\">\n",
       "  <thead>\n",
       "    <tr style=\"text-align: right;\">\n",
       "      <th></th>\n",
       "      <th>PassengerId</th>\n",
       "      <th>Survived</th>\n",
       "      <th>Pclass</th>\n",
       "      <th>Name</th>\n",
       "      <th>Sex</th>\n",
       "      <th>Age</th>\n",
       "      <th>SibSp</th>\n",
       "      <th>Parch</th>\n",
       "      <th>Ticket</th>\n",
       "      <th>Fare</th>\n",
       "      <th>Cabin</th>\n",
       "      <th>Embarked</th>\n",
       "    </tr>\n",
       "  </thead>\n",
       "  <tbody>\n",
       "    <tr>\n",
       "      <th>0</th>\n",
       "      <td>1</td>\n",
       "      <td>0</td>\n",
       "      <td>3</td>\n",
       "      <td>Braund, Mr. Owen Harris</td>\n",
       "      <td>male</td>\n",
       "      <td>22</td>\n",
       "      <td>1</td>\n",
       "      <td>0</td>\n",
       "      <td>A/5 21171</td>\n",
       "      <td>7.2500</td>\n",
       "      <td>NaN</td>\n",
       "      <td>S</td>\n",
       "    </tr>\n",
       "    <tr>\n",
       "      <th>1</th>\n",
       "      <td>2</td>\n",
       "      <td>1</td>\n",
       "      <td>1</td>\n",
       "      <td>Cumings, Mrs. John Bradley (Florence Briggs Th...</td>\n",
       "      <td>female</td>\n",
       "      <td>38</td>\n",
       "      <td>1</td>\n",
       "      <td>0</td>\n",
       "      <td>PC 17599</td>\n",
       "      <td>71.2833</td>\n",
       "      <td>C85</td>\n",
       "      <td>C</td>\n",
       "    </tr>\n",
       "    <tr>\n",
       "      <th>2</th>\n",
       "      <td>3</td>\n",
       "      <td>1</td>\n",
       "      <td>3</td>\n",
       "      <td>Heikkinen, Miss. Laina</td>\n",
       "      <td>female</td>\n",
       "      <td>26</td>\n",
       "      <td>0</td>\n",
       "      <td>0</td>\n",
       "      <td>STON/O2. 3101282</td>\n",
       "      <td>7.9250</td>\n",
       "      <td>NaN</td>\n",
       "      <td>S</td>\n",
       "    </tr>\n",
       "    <tr>\n",
       "      <th>3</th>\n",
       "      <td>4</td>\n",
       "      <td>1</td>\n",
       "      <td>1</td>\n",
       "      <td>Futrelle, Mrs. Jacques Heath (Lily May Peel)</td>\n",
       "      <td>female</td>\n",
       "      <td>35</td>\n",
       "      <td>1</td>\n",
       "      <td>0</td>\n",
       "      <td>113803</td>\n",
       "      <td>53.1000</td>\n",
       "      <td>C123</td>\n",
       "      <td>S</td>\n",
       "    </tr>\n",
       "    <tr>\n",
       "      <th>4</th>\n",
       "      <td>5</td>\n",
       "      <td>0</td>\n",
       "      <td>3</td>\n",
       "      <td>Allen, Mr. William Henry</td>\n",
       "      <td>male</td>\n",
       "      <td>35</td>\n",
       "      <td>0</td>\n",
       "      <td>0</td>\n",
       "      <td>373450</td>\n",
       "      <td>8.0500</td>\n",
       "      <td>NaN</td>\n",
       "      <td>S</td>\n",
       "    </tr>\n",
       "    <tr>\n",
       "      <th>6</th>\n",
       "      <td>7</td>\n",
       "      <td>0</td>\n",
       "      <td>1</td>\n",
       "      <td>McCarthy, Mr. Timothy J</td>\n",
       "      <td>male</td>\n",
       "      <td>54</td>\n",
       "      <td>0</td>\n",
       "      <td>0</td>\n",
       "      <td>17463</td>\n",
       "      <td>51.8625</td>\n",
       "      <td>E46</td>\n",
       "      <td>S</td>\n",
       "    </tr>\n",
       "    <tr>\n",
       "      <th>7</th>\n",
       "      <td>8</td>\n",
       "      <td>0</td>\n",
       "      <td>3</td>\n",
       "      <td>Palsson, Master. Gosta Leonard</td>\n",
       "      <td>male</td>\n",
       "      <td>2</td>\n",
       "      <td>3</td>\n",
       "      <td>1</td>\n",
       "      <td>349909</td>\n",
       "      <td>21.0750</td>\n",
       "      <td>NaN</td>\n",
       "      <td>S</td>\n",
       "    </tr>\n",
       "    <tr>\n",
       "      <th>8</th>\n",
       "      <td>9</td>\n",
       "      <td>1</td>\n",
       "      <td>3</td>\n",
       "      <td>Johnson, Mrs. Oscar W (Elisabeth Vilhelmina Berg)</td>\n",
       "      <td>female</td>\n",
       "      <td>27</td>\n",
       "      <td>0</td>\n",
       "      <td>2</td>\n",
       "      <td>347742</td>\n",
       "      <td>11.1333</td>\n",
       "      <td>NaN</td>\n",
       "      <td>S</td>\n",
       "    </tr>\n",
       "    <tr>\n",
       "      <th>9</th>\n",
       "      <td>10</td>\n",
       "      <td>1</td>\n",
       "      <td>2</td>\n",
       "      <td>Nasser, Mrs. Nicholas (Adele Achem)</td>\n",
       "      <td>female</td>\n",
       "      <td>14</td>\n",
       "      <td>1</td>\n",
       "      <td>0</td>\n",
       "      <td>237736</td>\n",
       "      <td>30.0708</td>\n",
       "      <td>NaN</td>\n",
       "      <td>C</td>\n",
       "    </tr>\n",
       "    <tr>\n",
       "      <th>10</th>\n",
       "      <td>11</td>\n",
       "      <td>1</td>\n",
       "      <td>3</td>\n",
       "      <td>Sandstrom, Miss. Marguerite Rut</td>\n",
       "      <td>female</td>\n",
       "      <td>4</td>\n",
       "      <td>1</td>\n",
       "      <td>1</td>\n",
       "      <td>PP 9549</td>\n",
       "      <td>16.7000</td>\n",
       "      <td>G6</td>\n",
       "      <td>S</td>\n",
       "    </tr>\n",
       "  </tbody>\n",
       "</table>\n",
       "</div>"
      ],
      "text/plain": [
       "    PassengerId  Survived  Pclass  \\\n",
       "0             1         0       3   \n",
       "1             2         1       1   \n",
       "2             3         1       3   \n",
       "3             4         1       1   \n",
       "4             5         0       3   \n",
       "6             7         0       1   \n",
       "7             8         0       3   \n",
       "8             9         1       3   \n",
       "9            10         1       2   \n",
       "10           11         1       3   \n",
       "\n",
       "                                                 Name     Sex  Age  SibSp  \\\n",
       "0                             Braund, Mr. Owen Harris    male   22      1   \n",
       "1   Cumings, Mrs. John Bradley (Florence Briggs Th...  female   38      1   \n",
       "2                              Heikkinen, Miss. Laina  female   26      0   \n",
       "3        Futrelle, Mrs. Jacques Heath (Lily May Peel)  female   35      1   \n",
       "4                            Allen, Mr. William Henry    male   35      0   \n",
       "6                             McCarthy, Mr. Timothy J    male   54      0   \n",
       "7                      Palsson, Master. Gosta Leonard    male    2      3   \n",
       "8   Johnson, Mrs. Oscar W (Elisabeth Vilhelmina Berg)  female   27      0   \n",
       "9                 Nasser, Mrs. Nicholas (Adele Achem)  female   14      1   \n",
       "10                    Sandstrom, Miss. Marguerite Rut  female    4      1   \n",
       "\n",
       "    Parch            Ticket     Fare Cabin Embarked  \n",
       "0       0         A/5 21171   7.2500   NaN        S  \n",
       "1       0          PC 17599  71.2833   C85        C  \n",
       "2       0  STON/O2. 3101282   7.9250   NaN        S  \n",
       "3       0            113803  53.1000  C123        S  \n",
       "4       0            373450   8.0500   NaN        S  \n",
       "6       0             17463  51.8625   E46        S  \n",
       "7       1            349909  21.0750   NaN        S  \n",
       "8       2            347742  11.1333   NaN        S  \n",
       "9       0            237736  30.0708   NaN        C  \n",
       "10      1           PP 9549  16.7000    G6        S  "
      ]
     },
     "execution_count": 3,
     "metadata": {},
     "output_type": "execute_result"
    }
   ],
   "source": [
    "#Данные - таблица, двумерный массив\n",
    "data[:10]"
   ]
  },
  {
   "cell_type": "markdown",
   "metadata": {},
   "source": [
    "## Расшифровка колонок\n",
    "* Survived - выжил ли человек\n",
    "* Pclass - класс, которым человек путешествовал\n",
    "* Name - имя(строка)\n",
    "* Sex - пол, а не то, что ты подумал - строка male/female\n",
    "* Age - возраст\n",
    "* Sibsp - число родственников на корабле\n",
    "* Parch - число родителей на корабле\n",
    "* Ticket - билет (строка-шифр)\n",
    "* Fare - сколько стоил билет\n",
    "* Cabin - номер каюты, если есть\n",
    "* Embarked - порт, в котором человек зашёл на борт\n",
    " * C = Cherbourg; Q = Queenstown; S = Southampton\n",
    "\n",
    "В некоторых колонках встречается NaN - значит, что у данного человека данная колонка неизвестна (квест - найти их глазами в данных выше)"
   ]
  },
  {
   "cell_type": "code",
   "execution_count": 4,
   "metadata": {
    "collapsed": false
   },
   "outputs": [
    {
     "name": "stdout",
     "output_type": "stream",
     "text": [
      "len(data) =  714\n",
      "data.shape =  (714, 12)\n"
     ]
    }
   ],
   "source": [
    "#размеры таблицы\n",
    "print \"len(data) = \",len(data)\n",
    "print \"data.shape = \",data.shape"
   ]
  },
  {
   "cell_type": "code",
   "execution_count": 5,
   "metadata": {
    "collapsed": false
   },
   "outputs": [
    {
     "name": "stdout",
     "output_type": "stream",
     "text": [
      "PassengerId                           5\n",
      "Survived                              0\n",
      "Pclass                                3\n",
      "Name           Allen, Mr. William Henry\n",
      "Sex                                male\n",
      "Age                                  35\n",
      "SibSp                                 0\n",
      "Parch                                 0\n",
      "Ticket                           373450\n",
      "Fare                               8.05\n",
      "Cabin                               NaN\n",
      "Embarked                              S\n",
      "Name: 4, dtype: object\n"
     ]
    },
    {
     "name": "stderr",
     "output_type": "stream",
     "text": [
      "/usr/local/lib/python2.7/dist-packages/ipykernel/__main__.py:2: FutureWarning: irow(i) is deprecated. Please use .iloc[i]\n",
      "  from ipykernel import kernelapp as app\n"
     ]
    }
   ],
   "source": [
    "#вот так можно получить четвёртую строку таблицы, считая с нуля\n",
    "print data.irow(4)"
   ]
  },
  {
   "cell_type": "code",
   "execution_count": 6,
   "metadata": {
    "collapsed": false
   },
   "outputs": [
    {
     "name": "stdout",
     "output_type": "stream",
     "text": [
      "   PassengerId  Survived  Pclass  \\\n",
      "0            1         0       3   \n",
      "1            2         1       1   \n",
      "2            3         1       3   \n",
      "3            4         1       1   \n",
      "4            5         0       3   \n",
      "\n",
      "                                                Name     Sex  Age  SibSp  \\\n",
      "0                            Braund, Mr. Owen Harris    male   22      1   \n",
      "1  Cumings, Mrs. John Bradley (Florence Briggs Th...  female   38      1   \n",
      "2                             Heikkinen, Miss. Laina  female   26      0   \n",
      "3       Futrelle, Mrs. Jacques Heath (Lily May Peel)  female   35      1   \n",
      "4                           Allen, Mr. William Henry    male   35      0   \n",
      "\n",
      "   Parch            Ticket     Fare Cabin Embarked  \n",
      "0      0         A/5 21171   7.2500   NaN        S  \n",
      "1      0          PC 17599  71.2833   C85        C  \n",
      "2      0  STON/O2. 3101282   7.9250   NaN        S  \n",
      "3      0            113803  53.1000  C123        S  \n",
      "4      0            373450   8.0500   NaN        S  \n"
     ]
    }
   ],
   "source": [
    "#первые 5 строк\n",
    "print data[0:5]"
   ]
  },
  {
   "cell_type": "code",
   "execution_count": 7,
   "metadata": {
    "collapsed": false
   },
   "outputs": [
    {
     "name": "stdout",
     "output_type": "stream",
     "text": [
      "0                                Braund, Mr. Owen Harris\n",
      "1      Cumings, Mrs. John Bradley (Florence Briggs Th...\n",
      "2                                 Heikkinen, Miss. Laina\n",
      "3           Futrelle, Mrs. Jacques Heath (Lily May Peel)\n",
      "4                               Allen, Mr. William Henry\n",
      "6                                McCarthy, Mr. Timothy J\n",
      "7                         Palsson, Master. Gosta Leonard\n",
      "8      Johnson, Mrs. Oscar W (Elisabeth Vilhelmina Berg)\n",
      "9                    Nasser, Mrs. Nicholas (Adele Achem)\n",
      "10                       Sandstrom, Miss. Marguerite Rut\n",
      "11                              Bonnell, Miss. Elizabeth\n",
      "12                        Saundercock, Mr. William Henry\n",
      "13                           Andersson, Mr. Anders Johan\n",
      "14                  Vestrom, Miss. Hulda Amanda Adolfina\n",
      "15                      Hewlett, Mrs. (Mary D Kingcome) \n",
      "16                                  Rice, Master. Eugene\n",
      "18     Vander Planke, Mrs. Julius (Emelia Maria Vande...\n",
      "20                                  Fynney, Mr. Joseph J\n",
      "21                                 Beesley, Mr. Lawrence\n",
      "22                           McGowan, Miss. Anna \"Annie\"\n",
      "23                          Sloper, Mr. William Thompson\n",
      "24                         Palsson, Miss. Torborg Danira\n",
      "25     Asplund, Mrs. Carl Oscar (Selma Augusta Emilia...\n",
      "27                        Fortune, Mr. Charles Alexander\n",
      "30                              Uruchurtu, Don. Manuel E\n",
      "33                                 Wheadon, Mr. Edward H\n",
      "34                               Meyer, Mr. Edgar Joseph\n",
      "35                        Holverson, Mr. Alexander Oskar\n",
      "37                              Cann, Mr. Ernest Charles\n",
      "38                    Vander Planke, Miss. Augusta Maria\n",
      "                             ...                        \n",
      "856           Wick, Mrs. George Dennick (Mary Hitchcock)\n",
      "857                               Daly, Mr. Peter Denis \n",
      "858                Baclini, Mrs. Solomon (Latifa Qurban)\n",
      "860                              Hansen, Mr. Claus Peter\n",
      "861                          Giles, Mr. Frederick Edward\n",
      "862    Swift, Mrs. Frederick Joel (Margaret Welles Ba...\n",
      "864                               Gill, Mr. John William\n",
      "865                             Bystrom, Mrs. (Karolina)\n",
      "866                         Duran y More, Miss. Asuncion\n",
      "867                 Roebling, Mr. Washington Augustus II\n",
      "869                      Johnson, Master. Harold Theodor\n",
      "870                                    Balkic, Mr. Cerin\n",
      "871     Beckwith, Mrs. Richard Leonard (Sallie Monypeny)\n",
      "872                             Carlsson, Mr. Frans Olof\n",
      "873                          Vander Cruyssen, Mr. Victor\n",
      "874                Abelson, Mrs. Samuel (Hannah Wizosky)\n",
      "875                     Najib, Miss. Adele Kiamie \"Jane\"\n",
      "876                        Gustafsson, Mr. Alfred Ossian\n",
      "877                                 Petroff, Mr. Nedelio\n",
      "879        Potter, Mrs. Thomas Jr (Lily Alexenia Wilson)\n",
      "880         Shelley, Mrs. William (Imanita Parrish Hall)\n",
      "881                                   Markun, Mr. Johann\n",
      "882                         Dahlberg, Miss. Gerda Ulrika\n",
      "883                        Banfield, Mr. Frederick James\n",
      "884                               Sutehall, Mr. Henry Jr\n",
      "885                 Rice, Mrs. William (Margaret Norton)\n",
      "886                                Montvila, Rev. Juozas\n",
      "887                         Graham, Miss. Margaret Edith\n",
      "889                                Behr, Mr. Karl Howell\n",
      "890                                  Dooley, Mr. Patrick\n",
      "Name: Name, dtype: object\n"
     ]
    }
   ],
   "source": [
    "#так можно получить второй столбец (считая с нуля)\n",
    "#print data.icol(2)\n",
    "#но проще - вот так:\n",
    "print data[\"Name\"]\n",
    "#или даже так: data.Name"
   ]
  },
  {
   "cell_type": "code",
   "execution_count": 8,
   "metadata": {
    "collapsed": false
   },
   "outputs": [
    {
     "data": {
      "text/html": [
       "<div>\n",
       "<table border=\"1\" class=\"dataframe\">\n",
       "  <thead>\n",
       "    <tr style=\"text-align: right;\">\n",
       "      <th></th>\n",
       "      <th>Sex</th>\n",
       "      <th>Pclass</th>\n",
       "    </tr>\n",
       "  </thead>\n",
       "  <tbody>\n",
       "    <tr>\n",
       "      <th>6</th>\n",
       "      <td>male</td>\n",
       "      <td>1</td>\n",
       "    </tr>\n",
       "    <tr>\n",
       "      <th>7</th>\n",
       "      <td>male</td>\n",
       "      <td>3</td>\n",
       "    </tr>\n",
       "    <tr>\n",
       "      <th>8</th>\n",
       "      <td>female</td>\n",
       "      <td>3</td>\n",
       "    </tr>\n",
       "    <tr>\n",
       "      <th>9</th>\n",
       "      <td>female</td>\n",
       "      <td>2</td>\n",
       "    </tr>\n",
       "    <tr>\n",
       "      <th>10</th>\n",
       "      <td>female</td>\n",
       "      <td>3</td>\n",
       "    </tr>\n",
       "  </tbody>\n",
       "</table>\n",
       "</div>"
      ],
      "text/plain": [
       "       Sex  Pclass\n",
       "6     male       1\n",
       "7     male       3\n",
       "8   female       3\n",
       "9   female       2\n",
       "10  female       3"
      ]
     },
     "execution_count": 8,
     "metadata": {},
     "output_type": "execute_result"
    }
   ],
   "source": [
    "#несколько колонок, несколько строк\n",
    "data[[\"Sex\",\"Pclass\"]][5:10]"
   ]
  },
  {
   "cell_type": "markdown",
   "metadata": {},
   "source": [
    "## Теперь сам\n",
    "* выведи данные о 1, 13, 666 и последнем пассажире. Кто из них выжил?\n",
    "\n",
    "\n",
    "* выведи данные о столбике \"Survived\" - выжившие.\n",
    "* напиши программу, которая считает, сколько всего людей выжило и сколько всего людей было на корабле\n",
    "\n",
    "\n",
    "! Обрати внимание, что в данных может быть мусор (NaN, пустые значения) ! \n",
    "\n",
    "Их можно найти и удалить. Подумай (или погугли), как это сделать в питоне"
   ]
  },
  {
   "cell_type": "code",
   "execution_count": null,
   "metadata": {
    "collapsed": false
   },
   "outputs": [],
   "source": [
    "#<1,13, 666 и последний из пассажиров>"
   ]
  },
  {
   "cell_type": "code",
   "execution_count": null,
   "metadata": {
    "collapsed": false
   },
   "outputs": [],
   "source": [
    "#столбик"
   ]
  },
  {
   "cell_type": "code",
   "execution_count": null,
   "metadata": {
    "collapsed": false
   },
   "outputs": [],
   "source": [
    "#программа"
   ]
  },
  {
   "cell_type": "code",
   "execution_count": 8,
   "metadata": {
    "collapsed": true
   },
   "outputs": [],
   "source": [
    "#Бонус - посчитай средний возраст людей на корабле (тут точно будет NaN)"
   ]
  },
  {
   "cell_type": "markdown",
   "metadata": {},
   "source": [
    "# Индексация\n",
    " * Можно выделять модмножество пассажиров по логическому признаку"
   ]
  },
  {
   "cell_type": "code",
   "execution_count": 30,
   "metadata": {
    "collapsed": false
   },
   "outputs": [],
   "source": [
    "\n",
    "#логическое условие data.Sex == \"male\" - только мужчины\n",
    "data_males = data[data.Sex == \"male\"]\n",
    "\n",
    "\n",
    "# возраст меньше 18 (лет) - только дети\n",
    "data_children = data[data.Age < 18]"
   ]
  },
  {
   "cell_type": "markdown",
   "metadata": {},
   "source": [
    "# Аггрегации\n",
    " * Pandas умеет быстрои непринуждённо считать полезные характеристики данных\n",
    " * Среднее, минимум, максимум\n",
    " * Стандартное отклонение\n",
    " * Суммы\n",
    " * Квантили"
   ]
  },
  {
   "cell_type": "code",
   "execution_count": 10,
   "metadata": {
    "collapsed": false
   },
   "outputs": [
    {
     "data": {
      "text/html": [
       "<div>\n",
       "<table border=\"1\" class=\"dataframe\">\n",
       "  <thead>\n",
       "    <tr style=\"text-align: right;\">\n",
       "      <th></th>\n",
       "      <th>PassengerId</th>\n",
       "      <th>Survived</th>\n",
       "      <th>Pclass</th>\n",
       "      <th>Age</th>\n",
       "      <th>SibSp</th>\n",
       "      <th>Parch</th>\n",
       "      <th>Fare</th>\n",
       "    </tr>\n",
       "  </thead>\n",
       "  <tbody>\n",
       "    <tr>\n",
       "      <th>count</th>\n",
       "      <td>714.000000</td>\n",
       "      <td>714.000000</td>\n",
       "      <td>714.000000</td>\n",
       "      <td>714.000000</td>\n",
       "      <td>714.000000</td>\n",
       "      <td>714.000000</td>\n",
       "      <td>714.000000</td>\n",
       "    </tr>\n",
       "    <tr>\n",
       "      <th>mean</th>\n",
       "      <td>448.582633</td>\n",
       "      <td>0.406162</td>\n",
       "      <td>2.236695</td>\n",
       "      <td>29.699118</td>\n",
       "      <td>0.512605</td>\n",
       "      <td>0.431373</td>\n",
       "      <td>34.694514</td>\n",
       "    </tr>\n",
       "    <tr>\n",
       "      <th>std</th>\n",
       "      <td>259.119524</td>\n",
       "      <td>0.491460</td>\n",
       "      <td>0.838250</td>\n",
       "      <td>14.526497</td>\n",
       "      <td>0.929783</td>\n",
       "      <td>0.853289</td>\n",
       "      <td>52.918930</td>\n",
       "    </tr>\n",
       "    <tr>\n",
       "      <th>min</th>\n",
       "      <td>1.000000</td>\n",
       "      <td>0.000000</td>\n",
       "      <td>1.000000</td>\n",
       "      <td>0.420000</td>\n",
       "      <td>0.000000</td>\n",
       "      <td>0.000000</td>\n",
       "      <td>0.000000</td>\n",
       "    </tr>\n",
       "    <tr>\n",
       "      <th>25%</th>\n",
       "      <td>222.250000</td>\n",
       "      <td>0.000000</td>\n",
       "      <td>1.000000</td>\n",
       "      <td>20.125000</td>\n",
       "      <td>0.000000</td>\n",
       "      <td>0.000000</td>\n",
       "      <td>8.050000</td>\n",
       "    </tr>\n",
       "    <tr>\n",
       "      <th>50%</th>\n",
       "      <td>445.000000</td>\n",
       "      <td>0.000000</td>\n",
       "      <td>2.000000</td>\n",
       "      <td>28.000000</td>\n",
       "      <td>0.000000</td>\n",
       "      <td>0.000000</td>\n",
       "      <td>15.741700</td>\n",
       "    </tr>\n",
       "    <tr>\n",
       "      <th>75%</th>\n",
       "      <td>677.750000</td>\n",
       "      <td>1.000000</td>\n",
       "      <td>3.000000</td>\n",
       "      <td>38.000000</td>\n",
       "      <td>1.000000</td>\n",
       "      <td>1.000000</td>\n",
       "      <td>33.375000</td>\n",
       "    </tr>\n",
       "    <tr>\n",
       "      <th>max</th>\n",
       "      <td>891.000000</td>\n",
       "      <td>1.000000</td>\n",
       "      <td>3.000000</td>\n",
       "      <td>80.000000</td>\n",
       "      <td>5.000000</td>\n",
       "      <td>6.000000</td>\n",
       "      <td>512.329200</td>\n",
       "    </tr>\n",
       "  </tbody>\n",
       "</table>\n",
       "</div>"
      ],
      "text/plain": [
       "       PassengerId    Survived      Pclass         Age       SibSp  \\\n",
       "count   714.000000  714.000000  714.000000  714.000000  714.000000   \n",
       "mean    448.582633    0.406162    2.236695   29.699118    0.512605   \n",
       "std     259.119524    0.491460    0.838250   14.526497    0.929783   \n",
       "min       1.000000    0.000000    1.000000    0.420000    0.000000   \n",
       "25%     222.250000    0.000000    1.000000   20.125000    0.000000   \n",
       "50%     445.000000    0.000000    2.000000   28.000000    0.000000   \n",
       "75%     677.750000    1.000000    3.000000   38.000000    1.000000   \n",
       "max     891.000000    1.000000    3.000000   80.000000    5.000000   \n",
       "\n",
       "            Parch        Fare  \n",
       "count  714.000000  714.000000  \n",
       "mean     0.431373   34.694514  \n",
       "std      0.853289   52.918930  \n",
       "min      0.000000    0.000000  \n",
       "25%      0.000000    8.050000  \n",
       "50%      0.000000   15.741700  \n",
       "75%      1.000000   33.375000  \n",
       "max      6.000000  512.329200  "
      ]
     },
     "execution_count": 10,
     "metadata": {},
     "output_type": "execute_result"
    }
   ],
   "source": [
    "#быстро вывести удобный отчётик по всем данным\n",
    "data.describe()"
   ]
  },
  {
   "cell_type": "code",
   "execution_count": 36,
   "metadata": {
    "collapsed": false
   },
   "outputs": [
    {
     "name": "stdout",
     "output_type": "stream",
     "text": [
      "мужчины\n",
      "count    453.000000\n",
      "mean      30.726645\n",
      "std       14.678201\n",
      "min        0.420000\n",
      "25%       21.000000\n",
      "50%       29.000000\n",
      "75%       39.000000\n",
      "max       80.000000\n",
      "Name: Age, dtype: float64\n",
      "\n",
      "женщины\n",
      "count    261.000000\n",
      "mean      27.915709\n",
      "std       14.110146\n",
      "min        0.750000\n",
      "25%       18.000000\n",
      "50%       27.000000\n",
      "75%       37.000000\n",
      "max       63.000000\n",
      "Name: Age, dtype: float64\n"
     ]
    }
   ],
   "source": [
    "#или по отдельной колонке\n",
    "data_males = data[data.Sex==\"male\"]\n",
    "data_females = data[data.Sex==\"female\"]\n",
    "\n",
    "print \"мужчины\"\n",
    "print data_males[\"Age\"].describe()\n",
    "\n",
    "\n",
    "print\n",
    "print \"женщины\"\n",
    "print data_females[\"Age\"].describe()"
   ]
  },
  {
   "cell_type": "code",
   "execution_count": 72,
   "metadata": {
    "collapsed": false
   },
   "outputs": [
    {
     "name": "stdout",
     "output_type": "stream",
     "text": [
      "Средний возраст 29.6991176471\n",
      "Медианный возраст 28.0\n",
      "Стандартное Отклонение: 14.5264973323\n",
      "Квантиль 33 23.0\n",
      "Максимум, минимум 0.42 80.0\n"
     ]
    }
   ],
   "source": [
    "#считать статистические агрегации\n",
    "print \"Средний возраст\",data[\"Age\"].mean()\n",
    "print \"Медианный возраст\",data[\"Age\"].median()\n",
    "print \"Стандартное Отклонение:\", data[\"Age\"].std()\n",
    "print \"Квантиль 33\", data.Age.quantile(0.33)\n",
    "print \"Максимум, минимум\", data.Age.min(),data.Age.max()"
   ]
  },
  {
   "cell_type": "markdown",
   "metadata": {},
   "source": [
    "### Теперь сам\n",
    " * Посчитай среднюю, медианную, максимальную и минимальную цену билета у мужчин и женщин\n",
    " * Кто более жадный?\n",
    " \n",
    " * Посчитай те же статистики на цену билета у выживших и погибших\n",
    "    * выжил ли человек: `data[\"Survived\"] == 1`\n"
   ]
  },
  {
   "cell_type": "code",
   "execution_count": 37,
   "metadata": {
    "collapsed": false
   },
   "outputs": [
    {
     "ename": "SyntaxError",
     "evalue": "invalid syntax (<ipython-input-37-4208f7b5b486>, line 1)",
     "output_type": "error",
     "traceback": [
      "\u001b[1;36m  File \u001b[1;32m\"<ipython-input-37-4208f7b5b486>\"\u001b[1;36m, line \u001b[1;32m1\u001b[0m\n\u001b[1;33m    твой_код\u001b[0m\n\u001b[1;37m    ^\u001b[0m\n\u001b[1;31mSyntaxError\u001b[0m\u001b[1;31m:\u001b[0m invalid syntax\n"
     ]
    }
   ],
   "source": [
    "твой_код"
   ]
  },
  {
   "cell_type": "markdown",
   "metadata": {},
   "source": [
    "# Визуализация данных\n",
    "Что делать с миллионом пользователей?"
   ]
  },
  {
   "cell_type": "markdown",
   "metadata": {},
   "source": [
    "## У нас есть:\n",
    "\n",
    "* Пользователи – 10^6 штук\n",
    "\n",
    "\n",
    "* вопрос\n",
    " * Как меняется количество друзей с возрастом?\n",
    " * Сколько в сети активных, обычных и неактивных пользователей.\n",
    " * И сколько постов в неделю они пишут?\n",
    " * Как меняется аудитория сети со временем?\n",
    "\n",
    "\n",
    "* Пол часа времени\n"
   ]
  },
  {
   "cell_type": "code",
   "execution_count": 40,
   "metadata": {
    "collapsed": false
   },
   "outputs": [
    {
     "data": {
      "text/html": [
       "<div>\n",
       "<table border=\"1\" class=\"dataframe\">\n",
       "  <thead>\n",
       "    <tr style=\"text-align: right;\">\n",
       "      <th></th>\n",
       "      <th>PassengerId</th>\n",
       "      <th>Survived</th>\n",
       "      <th>Pclass</th>\n",
       "      <th>Name</th>\n",
       "      <th>Sex</th>\n",
       "      <th>Age</th>\n",
       "      <th>SibSp</th>\n",
       "      <th>Parch</th>\n",
       "      <th>Ticket</th>\n",
       "      <th>Fare</th>\n",
       "      <th>Cabin</th>\n",
       "      <th>Embarked</th>\n",
       "    </tr>\n",
       "  </thead>\n",
       "  <tbody>\n",
       "    <tr>\n",
       "      <th>0</th>\n",
       "      <td>1</td>\n",
       "      <td>0</td>\n",
       "      <td>3</td>\n",
       "      <td>Braund, Mr. Owen Harris</td>\n",
       "      <td>male</td>\n",
       "      <td>22</td>\n",
       "      <td>1</td>\n",
       "      <td>0</td>\n",
       "      <td>A/5 21171</td>\n",
       "      <td>7.2500</td>\n",
       "      <td>NaN</td>\n",
       "      <td>S</td>\n",
       "    </tr>\n",
       "    <tr>\n",
       "      <th>1</th>\n",
       "      <td>2</td>\n",
       "      <td>1</td>\n",
       "      <td>1</td>\n",
       "      <td>Cumings, Mrs. John Bradley (Florence Briggs Th...</td>\n",
       "      <td>female</td>\n",
       "      <td>38</td>\n",
       "      <td>1</td>\n",
       "      <td>0</td>\n",
       "      <td>PC 17599</td>\n",
       "      <td>71.2833</td>\n",
       "      <td>C85</td>\n",
       "      <td>C</td>\n",
       "    </tr>\n",
       "    <tr>\n",
       "      <th>2</th>\n",
       "      <td>3</td>\n",
       "      <td>1</td>\n",
       "      <td>3</td>\n",
       "      <td>Heikkinen, Miss. Laina</td>\n",
       "      <td>female</td>\n",
       "      <td>26</td>\n",
       "      <td>0</td>\n",
       "      <td>0</td>\n",
       "      <td>STON/O2. 3101282</td>\n",
       "      <td>7.9250</td>\n",
       "      <td>NaN</td>\n",
       "      <td>S</td>\n",
       "    </tr>\n",
       "    <tr>\n",
       "      <th>3</th>\n",
       "      <td>4</td>\n",
       "      <td>1</td>\n",
       "      <td>1</td>\n",
       "      <td>Futrelle, Mrs. Jacques Heath (Lily May Peel)</td>\n",
       "      <td>female</td>\n",
       "      <td>35</td>\n",
       "      <td>1</td>\n",
       "      <td>0</td>\n",
       "      <td>113803</td>\n",
       "      <td>53.1000</td>\n",
       "      <td>C123</td>\n",
       "      <td>S</td>\n",
       "    </tr>\n",
       "    <tr>\n",
       "      <th>4</th>\n",
       "      <td>5</td>\n",
       "      <td>0</td>\n",
       "      <td>3</td>\n",
       "      <td>Allen, Mr. William Henry</td>\n",
       "      <td>male</td>\n",
       "      <td>35</td>\n",
       "      <td>0</td>\n",
       "      <td>0</td>\n",
       "      <td>373450</td>\n",
       "      <td>8.0500</td>\n",
       "      <td>NaN</td>\n",
       "      <td>S</td>\n",
       "    </tr>\n",
       "    <tr>\n",
       "      <th>6</th>\n",
       "      <td>7</td>\n",
       "      <td>0</td>\n",
       "      <td>1</td>\n",
       "      <td>McCarthy, Mr. Timothy J</td>\n",
       "      <td>male</td>\n",
       "      <td>54</td>\n",
       "      <td>0</td>\n",
       "      <td>0</td>\n",
       "      <td>17463</td>\n",
       "      <td>51.8625</td>\n",
       "      <td>E46</td>\n",
       "      <td>S</td>\n",
       "    </tr>\n",
       "    <tr>\n",
       "      <th>7</th>\n",
       "      <td>8</td>\n",
       "      <td>0</td>\n",
       "      <td>3</td>\n",
       "      <td>Palsson, Master. Gosta Leonard</td>\n",
       "      <td>male</td>\n",
       "      <td>2</td>\n",
       "      <td>3</td>\n",
       "      <td>1</td>\n",
       "      <td>349909</td>\n",
       "      <td>21.0750</td>\n",
       "      <td>NaN</td>\n",
       "      <td>S</td>\n",
       "    </tr>\n",
       "    <tr>\n",
       "      <th>8</th>\n",
       "      <td>9</td>\n",
       "      <td>1</td>\n",
       "      <td>3</td>\n",
       "      <td>Johnson, Mrs. Oscar W (Elisabeth Vilhelmina Berg)</td>\n",
       "      <td>female</td>\n",
       "      <td>27</td>\n",
       "      <td>0</td>\n",
       "      <td>2</td>\n",
       "      <td>347742</td>\n",
       "      <td>11.1333</td>\n",
       "      <td>NaN</td>\n",
       "      <td>S</td>\n",
       "    </tr>\n",
       "    <tr>\n",
       "      <th>9</th>\n",
       "      <td>10</td>\n",
       "      <td>1</td>\n",
       "      <td>2</td>\n",
       "      <td>Nasser, Mrs. Nicholas (Adele Achem)</td>\n",
       "      <td>female</td>\n",
       "      <td>14</td>\n",
       "      <td>1</td>\n",
       "      <td>0</td>\n",
       "      <td>237736</td>\n",
       "      <td>30.0708</td>\n",
       "      <td>NaN</td>\n",
       "      <td>C</td>\n",
       "    </tr>\n",
       "    <tr>\n",
       "      <th>10</th>\n",
       "      <td>11</td>\n",
       "      <td>1</td>\n",
       "      <td>3</td>\n",
       "      <td>Sandstrom, Miss. Marguerite Rut</td>\n",
       "      <td>female</td>\n",
       "      <td>4</td>\n",
       "      <td>1</td>\n",
       "      <td>1</td>\n",
       "      <td>PP 9549</td>\n",
       "      <td>16.7000</td>\n",
       "      <td>G6</td>\n",
       "      <td>S</td>\n",
       "    </tr>\n",
       "  </tbody>\n",
       "</table>\n",
       "</div>"
      ],
      "text/plain": [
       "    PassengerId  Survived  Pclass  \\\n",
       "0             1         0       3   \n",
       "1             2         1       1   \n",
       "2             3         1       3   \n",
       "3             4         1       1   \n",
       "4             5         0       3   \n",
       "6             7         0       1   \n",
       "7             8         0       3   \n",
       "8             9         1       3   \n",
       "9            10         1       2   \n",
       "10           11         1       3   \n",
       "\n",
       "                                                 Name     Sex  Age  SibSp  \\\n",
       "0                             Braund, Mr. Owen Harris    male   22      1   \n",
       "1   Cumings, Mrs. John Bradley (Florence Briggs Th...  female   38      1   \n",
       "2                              Heikkinen, Miss. Laina  female   26      0   \n",
       "3        Futrelle, Mrs. Jacques Heath (Lily May Peel)  female   35      1   \n",
       "4                            Allen, Mr. William Henry    male   35      0   \n",
       "6                             McCarthy, Mr. Timothy J    male   54      0   \n",
       "7                      Palsson, Master. Gosta Leonard    male    2      3   \n",
       "8   Johnson, Mrs. Oscar W (Elisabeth Vilhelmina Berg)  female   27      0   \n",
       "9                 Nasser, Mrs. Nicholas (Adele Achem)  female   14      1   \n",
       "10                    Sandstrom, Miss. Marguerite Rut  female    4      1   \n",
       "\n",
       "    Parch            Ticket     Fare Cabin Embarked  \n",
       "0       0         A/5 21171   7.2500   NaN        S  \n",
       "1       0          PC 17599  71.2833   C85        C  \n",
       "2       0  STON/O2. 3101282   7.9250   NaN        S  \n",
       "3       0            113803  53.1000  C123        S  \n",
       "4       0            373450   8.0500   NaN        S  \n",
       "6       0             17463  51.8625   E46        S  \n",
       "7       1            349909  21.0750   NaN        S  \n",
       "8       2            347742  11.1333   NaN        S  \n",
       "9       0            237736  30.0708   NaN        C  \n",
       "10      1           PP 9549  16.7000    G6        S  "
      ]
     },
     "execution_count": 40,
     "metadata": {},
     "output_type": "execute_result"
    }
   ],
   "source": [
    "# формат данных, ещё раз\n",
    "data[:10]"
   ]
  },
  {
   "cell_type": "markdown",
   "metadata": {},
   "source": [
    "## Что можно сделать?\n",
    "* Посчитать аггрегации\n",
    "  * Среднее, отклонения, квантили\n",
    "  * И ещё много умных слов\n"
   ]
  },
  {
   "cell_type": "markdown",
   "metadata": {},
   "source": [
    "![caption](images/salaries.png)\n",
    "![caption](images/enscomb-table.png)\n",
    "![caption](images/enscomb-charts.png)"
   ]
  },
  {
   "cell_type": "code",
   "execution_count": 41,
   "metadata": {
    "collapsed": true
   },
   "outputs": [],
   "source": [
    "#библиотека для графиков\n",
    "import matplotlib.pyplot as plt\n",
    "%matplotlib inline"
   ]
  },
  {
   "cell_type": "markdown",
   "metadata": {},
   "source": [
    "# Line plot\n",
    "\n",
    "* На графике изображены линии\n",
    " * зависимость y(x) заданная по точкам\n",
    " \n",
    "\n",
    "* подходит для отображения временных рядов или порядка на данных"
   ]
  },
  {
   "cell_type": "code",
   "execution_count": 45,
   "metadata": {
    "collapsed": false,
    "scrolled": true
   },
   "outputs": [
    {
     "data": {
      "text/plain": [
       "[<matplotlib.lines.Line2D at 0x7f33ea4bcb10>]"
      ]
     },
     "execution_count": 45,
     "metadata": {},
     "output_type": "execute_result"
    },
    {
     "data": {
      "image/png": "[encoded data removed]",
      "text/plain": [
       "<matplotlib.figure.Figure at 0x7f33ea5b69d0>"
      ]
     },
     "metadata": {},
     "output_type": "display_data"
    }
   ],
   "source": [
    "#график функции y=x^2\n",
    "plt.plot([0,1,2,3,4,5],[0,1,4,9,16,25])"
   ]
  },
  {
   "cell_type": "code",
   "execution_count": 46,
   "metadata": {
    "collapsed": false
   },
   "outputs": [
    {
     "data": {
      "text/plain": [
       "[<matplotlib.lines.Line2D at 0x7f33ea3f7050>]"
      ]
     },
     "execution_count": 46,
     "metadata": {},
     "output_type": "execute_result"
    },
    {
     "data": {
      "image/png": "[encoded data removed]",
      "text/plain": [
       "<matplotlib.figure.Figure at 0x7f33ea4f2a90>"
      ]
     },
     "metadata": {},
     "output_type": "display_data"
    }
   ],
   "source": [
    "\n",
    "#по x - порядковый номер пассажира по возрастанию возраста\n",
    "x = range(len(data))\n",
    "\n",
    "# по y - сам возраст\n",
    "y = sorted(data[\"Age\"].values)\n",
    "\n",
    "plt.plot( x, y )"
   ]
  },
  {
   "cell_type": "markdown",
   "metadata": {},
   "source": [
    "### Построй аналогичный график для цены билета \n",
    "* `df[\"Fare\"].values`"
   ]
  },
  {
   "cell_type": "code",
   "execution_count": null,
   "metadata": {
    "collapsed": true
   },
   "outputs": [],
   "source": [
    "#по x - порядковый номер пассажира по возрастанию цены билета (Fare)\n",
    "x = range(len(df))\n",
    "\n",
    "#по y - сама цена билета\n",
    "y = <массив из цен билетов в порядке их возрастания>\n",
    "\n",
    "<функция построения графика>"
   ]
  },
  {
   "cell_type": "code",
   "execution_count": 73,
   "metadata": {
    "collapsed": false
   },
   "outputs": [],
   "source": [
    "# можно показывать несколько графиков \n",
    "\n",
    "#например, отдельные кривые для разных полов, портов и т.п.\n",
    "\n",
    "#выделим в отдельные таблицы мужчин и женщин\n",
    "data_male = data[data.Sex==\"male\"]\n",
    "data_female = data[data.Sex==\"female\"]\n",
    "\n",
    "\n",
    "#получаем массивы x и y\n",
    "#дамы вперёд\n",
    "x_female= range(len(data_female))\n",
    "y_female= sorted(data_female.Age)\n",
    "\n",
    "\n",
    "x_male= range(len(data_male))\n",
    "y_male= sorted(data_male.Age)"
   ]
  },
  {
   "cell_type": "code",
   "execution_count": 74,
   "metadata": {
    "collapsed": false
   },
   "outputs": [
    {
     "data": {
      "text/plain": [
       "<matplotlib.text.Text at 0x7f33e142d450>"
      ]
     },
     "execution_count": 74,
     "metadata": {},
     "output_type": "execute_result"
    },
    {
     "data": {
      "image/png": "[encoded data removed]",
      "text/plain": [
       "<matplotlib.figure.Figure at 0x7f33e13b3610>"
      ]
     },
     "metadata": {},
     "output_type": "display_data"
    }
   ],
   "source": [
    "#рисуем графики\n",
    "plt.plot(x_female,y_female,label=u\"Males\")\n",
    "plt.plot(x_male,y_male,label=u\"Females\")\n",
    "\n",
    "#отобразить названия линий (label)\n",
    "plt.legend()\n",
    "\n",
    "#добавляем название графика\n",
    "plt.title(\"Age curves\")\n",
    "\n"
   ]
  },
  {
   "cell_type": "markdown",
   "metadata": {},
   "source": [
    "# Scatter plot\n",
    " * График из точек по (x,y)\n",
    " \n",
    " * хорошо показывает структуру данных\n",
    " \n",
    " * плохо передаёт плотность\n",
    " \n",
    " * На подумать - можно ли отобразить больше 2 размерностей на плоском Scatter plot?\n",
    "   * Как это сделать?\n",
    "   * Какое наибольшее число размерностей можно уместить?"
   ]
  },
  {
   "cell_type": "code",
   "execution_count": 52,
   "metadata": {
    "collapsed": false
   },
   "outputs": [
    {
     "data": {
      "text/plain": [
       "<matplotlib.text.Text at 0x7f33ea23d490>"
      ]
     },
     "execution_count": 52,
     "metadata": {},
     "output_type": "execute_result"
    },
    {
     "data": {
      "image/png": "[encoded data removed]",
      "text/plain": [
       "<matplotlib.figure.Figure at 0x7f33ea026890>"
      ]
     },
     "metadata": {},
     "output_type": "display_data"
    }
   ],
   "source": [
    "x = data.Age\n",
    "y = data.Fare\n",
    "plt.scatter(x,y)\n",
    "\n",
    "#подпишем оси\n",
    "plt.xlabel(\"Age\")\n",
    "plt.ylabel(\"Ticket cost\")"
   ]
  },
  {
   "cell_type": "markdown",
   "metadata": {},
   "source": [
    "### Для более наглядного отображения плотностиможно использовать полупрозрачные точки"
   ]
  },
  {
   "cell_type": "code",
   "execution_count": 53,
   "metadata": {
    "collapsed": false
   },
   "outputs": [
    {
     "data": {
      "text/plain": [
       "<matplotlib.text.Text at 0x7f33ea0d8150>"
      ]
     },
     "execution_count": 53,
     "metadata": {},
     "output_type": "execute_result"
    },
    {
     "data": {
      "image/png": "[encoded data removed]",
      "text/plain": [
       "<matplotlib.figure.Figure at 0x7f33ea039dd0>"
      ]
     },
     "metadata": {},
     "output_type": "display_data"
    }
   ],
   "source": [
    "x = data.Age\n",
    "y = data.Fare\n",
    "plt.scatter(x,y, alpha = 0.1) #изменения только в этой строчке\n",
    "\n",
    "#подпишем оси\n",
    "plt.xlabel(\"Age\")\n",
    "plt.ylabel(\"Ticket cost\")"
   ]
  },
  {
   "cell_type": "markdown",
   "metadata": {},
   "source": [
    "### Один из способов добавить третье измерение - цвет"
   ]
  },
  {
   "cell_type": "code",
   "execution_count": 56,
   "metadata": {
    "collapsed": false
   },
   "outputs": [
    {
     "data": {
      "text/plain": [
       "<matplotlib.collections.PathCollection at 0x7f33e9ee9850>"
      ]
     },
     "execution_count": 56,
     "metadata": {},
     "output_type": "execute_result"
    },
    {
     "data": {
      "image/png": "[encoded data removed]",
      "text/plain": [
       "<matplotlib.figure.Figure at 0x7f33ea391110>"
      ]
     },
     "metadata": {},
     "output_type": "display_data"
    }
   ],
   "source": [
    "#в качестве цвета укажем, выжил ли человек\n",
    "color = data.Survived\n",
    "plt.scatter(data.Age,data.Fare,alpha = 0.5, c = color)"
   ]
  },
  {
   "cell_type": "code",
   "execution_count": 58,
   "metadata": {
    "collapsed": false
   },
   "outputs": [
    {
     "data": {
      "text/plain": [
       "<matplotlib.collections.PathCollection at 0x7f33e9df5890>"
      ]
     },
     "execution_count": 58,
     "metadata": {},
     "output_type": "execute_result"
    },
    {
     "data": {
      "image/png": "[encoded data removed]",
      "text/plain": [
       "<matplotlib.figure.Figure at 0x7f33ea522990>"
      ]
     },
     "metadata": {},
     "output_type": "display_data"
    }
   ],
   "source": [
    "#то же самое другим способом\n",
    "\n",
    "survived = data.Survived == 1\n",
    "\n",
    "\n",
    "plt.scatter(data[survived].Age,data[survived].Fare,alpha = 0.25, c = \"blue\")\n",
    "plt.scatter(data[~survived].Age,data[~survived].Fare,alpha = 0.25, c = \"red\")"
   ]
  },
  {
   "cell_type": "markdown",
   "metadata": {},
   "source": [
    "### Построй Scatter-plot зависимости числа родственников на корабле от возраста\n",
    " * Число росдтвенников - `df[\"SibSp\"]`"
   ]
  },
  {
   "cell_type": "code",
   "execution_count": null,
   "metadata": {
    "collapsed": true
   },
   "outputs": [],
   "source": [
    "x= возраст\n",
    "y = число родственников на корабле\n",
    "\n",
    "<функция построения графика>"
   ]
  },
  {
   "cell_type": "markdown",
   "metadata": {
    "collapsed": false
   },
   "source": [
    "# Гистограммы (Histograms)\n",
    " * данные делятся на интервалы (бины)\n",
    " * для каждого интервала считается, сколько точек попало в этот интервал\n",
    " * На графике показываются столбцы, соответствующие интервалам\n",
    "  * высота столбца пропорциональна числу попавших в него точек\n",
    "  \n",
    " * хорошо подходят для отображения плотности данных\n",
    " * требуют зафиксировать интервал\n",
    "  * при слижком большом интервале становятся трудноинтерпретируемы\n",
    "  * при слижком  малом - не демонстрируют низкоуровневую структуру данных"
   ]
  },
  {
   "cell_type": "code",
   "execution_count": 61,
   "metadata": {
    "collapsed": false
   },
   "outputs": [
    {
     "data": {
      "text/plain": [
       "(array([  54.,   46.,  177.,  169.,  118.,   70.,   45.,   24.,    9.,    2.]),\n",
       " array([  0.42 ,   8.378,  16.336,  24.294,  32.252,  40.21 ,  48.168,\n",
       "         56.126,  64.084,  72.042,  80.   ]),\n",
       " <a list of 10 Patch objects>)"
      ]
     },
     "execution_count": 61,
     "metadata": {},
     "output_type": "execute_result"
    },
    {
     "data": {
      "image/png": "[encoded data removed]",
      "text/plain": [
       "<matplotlib.figure.Figure at 0x7f33e9ea1b10>"
      ]
     },
     "metadata": {},
     "output_type": "display_data"
    }
   ],
   "source": [
    "#гистограмма возрастов\n",
    "plt.hist(data.Age.values)"
   ]
  },
  {
   "cell_type": "code",
   "execution_count": 63,
   "metadata": {
    "collapsed": false
   },
   "outputs": [
    {
     "data": {
      "image/png": "[encoded data removed]",
      "text/plain": [
       "<matplotlib.figure.Figure at 0x7f33e9fa9c10>"
      ]
     },
     "metadata": {},
     "output_type": "display_data"
    },
    {
     "data": {
      "image/png": "[encoded data removed]",
      "text/plain": [
       "<matplotlib.figure.Figure at 0x7f33e9e0c310>"
      ]
     },
     "metadata": {},
     "output_type": "display_data"
    },
    {
     "data": {
      "image/png": "[encoded data removed]",
      "text/plain": [
       "<matplotlib.figure.Figure at 0x7f33e9a4b550>"
      ]
     },
     "metadata": {},
     "output_type": "display_data"
    }
   ],
   "source": [
    "#изменяем количество интервалов (\"бинов\")\n",
    "_ = plt.hist(data.Age.values, bins=5)\n",
    "\n",
    "plt.show() #завершить предыдущий график и начать новый\n",
    "\n",
    "_ = plt.hist(data.Age.values, bins=50)\n",
    "\n",
    "plt.show() #завершить предыдущий график и начать новый\n",
    "\n",
    "_ = plt.hist(data.Age.values, bins=500)\n"
   ]
  },
  {
   "cell_type": "markdown",
   "metadata": {},
   "source": [
    "### Построй гистограмму цен\n",
    " * Подбери оптимальное количество бинов\n",
    " * Попробуй построить отдельные гистограммы для мужчин и женщин"
   ]
  },
  {
   "cell_type": "code",
   "execution_count": 65,
   "metadata": {
    "collapsed": false
   },
   "outputs": [
    {
     "ename": "SyntaxError",
     "evalue": "invalid syntax (<ipython-input-65-ea39524f5d28>, line 1)",
     "output_type": "error",
     "traceback": [
      "\u001b[1;36m  File \u001b[1;32m\"<ipython-input-65-ea39524f5d28>\"\u001b[1;36m, line \u001b[1;32m1\u001b[0m\n\u001b[1;33m    <построй гистограмму цен>\u001b[0m\n\u001b[1;37m    ^\u001b[0m\n\u001b[1;31mSyntaxError\u001b[0m\u001b[1;31m:\u001b[0m invalid syntax\n"
     ]
    }
   ],
   "source": [
    "<построй гистограмму цен>"
   ]
  },
  {
   "cell_type": "code",
   "execution_count": 66,
   "metadata": {
    "collapsed": false
   },
   "outputs": [
    {
     "ename": "SyntaxError",
     "evalue": "invalid syntax (<ipython-input-66-262416ddd6f1>, line 1)",
     "output_type": "error",
     "traceback": [
      "\u001b[1;36m  File \u001b[1;32m\"<ipython-input-66-262416ddd6f1>\"\u001b[1;36m, line \u001b[1;32m1\u001b[0m\n\u001b[1;33m    <построй две гистограммы цен для мужчин и женщин>\u001b[0m\n\u001b[1;37m    ^\u001b[0m\n\u001b[1;31mSyntaxError\u001b[0m\u001b[1;31m:\u001b[0m invalid syntax\n"
     ]
    }
   ],
   "source": [
    "<построй две гистограммы цен для мужчин и женщин>"
   ]
  },
  {
   "cell_type": "markdown",
   "metadata": {},
   "source": [
    "# интерактивные графики !\n",
    "\n",
    "* Можно приближать, выделять, дёргать не меняя код,\n",
    "\n",
    "* Способ компактно показать много информации,\n",
    "\n",
    "* Главное – не перестараться (об этом чуть позже)\n",
    "\n",
    "\n",
    "\n",
    "\n",
    "## Plotly\n",
    " * может практически всё\n",
    " * интерактивные графики, 3D графики\n",
    " * примеры - https://plot.ly/python/#basic-charts\n",
    " * строится \"в облаке\" и требует залогиниться\n",
    " * бесплатно даёт построить не более 50 графиков в день\n",
    " \n",
    " \n",
    " * Пример - тык https://plot.ly/python/3d-scatter-plots/\n",
    " \n",
    " \n",
    " \n",
    "## Bokeh\n",
    " * может всё то же, что и Plotly кроме простого 3D\n",
    " * примеры - http://nbviewer.jupyter.org/github/bokeh/bokeh-notebooks/blob/master/index.ipynb\n",
    " * всё строится без участия внешних ресурсов\n"
   ]
  },
  {
   "cell_type": "code",
   "execution_count": 67,
   "metadata": {
    "collapsed": false
   },
   "outputs": [
    {
     "data": {
      "text/html": [
       "\n",
       "    <div class=\"bk-banner\">\n",
       "        <a href=\"http://bokeh.pydata.org\" target=\"_blank\" class=\"bk-logo bk-logo-small bk-logo-notebook\"></a>\n",
       "        <span id=\"38451c2f-b6d8-454e-aa05-84b8ce83209c\">Loading BokehJS ...</span>\n",
       "    </div>"
      ]
     },
     "metadata": {},
     "output_type": "display_data"
    },
    {
     "data": {
      "application/javascript": [
       "\n",
       "(function(global) {\n",
       "  function now() {\n",
       "    return new Date();\n",
       "  }\n",
       "\n",
       "  if (typeof (window._bokeh_onload_callbacks) === \"undefined\") {\n",
       "    window._bokeh_onload_callbacks = [];\n",
       "  }\n",
       "\n",
       "  function run_callbacks() {\n",
       "    window._bokeh_onload_callbacks.forEach(function(callback) { callback() });\n",
       "    delete window._bokeh_onload_callbacks\n",
       "    console.info(\"Bokeh: all callbacks have finished\");\n",
       "  }\n",
       "\n",
       "  function load_libs(js_urls, callback) {\n",
       "    window._bokeh_onload_callbacks.push(callback);\n",
       "    if (window._bokeh_is_loading > 0) {\n",
       "      console.log(\"Bokeh: BokehJS is being loaded, scheduling callback at\", now());\n",
       "      return null;\n",
       "    }\n",
       "    if (js_urls == null || js_urls.length === 0) {\n",
       "      run_callbacks();\n",
       "      return null;\n",
       "    }\n",
       "    console.log(\"Bokeh: BokehJS not loaded, scheduling load and callback at\", now());\n",
       "    window._bokeh_is_loading = js_urls.length;\n",
       "    for (var i = 0; i < js_urls.length; i++) {\n",
       "      var url = js_urls[i];\n",
       "      var s = document.createElement('script');\n",
       "      s.src = url;\n",
       "      s.async = false;\n",
       "      s.onreadystatechange = s.onload = function() {\n",
       "        window._bokeh_is_loading--;\n",
       "        if (window._bokeh_is_loading === 0) {\n",
       "          console.log(\"Bokeh: all BokehJS libraries loaded\");\n",
       "          run_callbacks()\n",
       "        }\n",
       "      };\n",
       "      s.onerror = function() {\n",
       "        console.warn(\"failed to load library \" + url);\n",
       "      };\n",
       "      console.log(\"Bokeh: injecting script tag for BokehJS library: \", url);\n",
       "      document.getElementsByTagName(\"head\")[0].appendChild(s);\n",
       "    }\n",
       "  };\n",
       "\n",
       "  var js_urls = ['https://cdn.pydata.org/bokeh/release/bokeh-0.11.1.min.js', 'https://cdn.pydata.org/bokeh/release/bokeh-widgets-0.11.1.min.js', 'https://cdn.pydata.org/bokeh/release/bokeh-compiler-0.11.1.min.js'];\n",
       "\n",
       "  var inline_js = [\n",
       "    function(Bokeh) {\n",
       "      Bokeh.set_log_level(\"info\");\n",
       "    },\n",
       "    \n",
       "    function(Bokeh) {\n",
       "      Bokeh.$(\"#38451c2f-b6d8-454e-aa05-84b8ce83209c\").text(\"BokehJS successfully loaded\");\n",
       "    },\n",
       "    function(Bokeh) {\n",
       "      console.log(\"Bokeh: injecting CSS: https://cdn.pydata.org/bokeh/release/bokeh-0.11.1.min.css\");\n",
       "      Bokeh.embed.inject_css(\"https://cdn.pydata.org/bokeh/release/bokeh-0.11.1.min.css\");\n",
       "      console.log(\"Bokeh: injecting CSS: https://cdn.pydata.org/bokeh/release/bokeh-widgets-0.11.1.min.css\");\n",
       "      Bokeh.embed.inject_css(\"https://cdn.pydata.org/bokeh/release/bokeh-widgets-0.11.1.min.css\");\n",
       "    }\n",
       "  ];\n",
       "\n",
       "  function run_inline_js() {\n",
       "    for (var i = 0; i < inline_js.length; i++) {\n",
       "      inline_js[i](window.Bokeh);\n",
       "    }\n",
       "  }\n",
       "\n",
       "  if (window._bokeh_is_loading === 0) {\n",
       "    console.log(\"Bokeh: BokehJS loaded, going straight to plotting\");\n",
       "    run_inline_js();\n",
       "  } else {\n",
       "    load_libs(js_urls, function() {\n",
       "      console.log(\"Bokeh: BokehJS plotting callback run at\", now());\n",
       "      run_inline_js();\n",
       "    });\n",
       "  }\n",
       "}(this));"
      ]
     },
     "metadata": {},
     "output_type": "display_data"
    },
    {
     "data": {
      "text/html": [
       "\n",
       "\n",
       "    <div class=\"plotdiv\" id=\"7fe23faa-df22-4cb8-8aed-144017f1ee93\"></div>\n",
       "<script type=\"text/javascript\">\n",
       "  \n",
       "  (function(global) {\n",
       "    function now() {\n",
       "      return new Date();\n",
       "    }\n",
       "  \n",
       "    if (typeof (window._bokeh_onload_callbacks) === \"undefined\") {\n",
       "      window._bokeh_onload_callbacks = [];\n",
       "    }\n",
       "  \n",
       "    function run_callbacks() {\n",
       "      window._bokeh_onload_callbacks.forEach(function(callback) { callback() });\n",
       "      delete window._bokeh_onload_callbacks\n",
       "      console.info(\"Bokeh: all callbacks have finished\");\n",
       "    }\n",
       "  \n",
       "    function load_libs(js_urls, callback) {\n",
       "      window._bokeh_onload_callbacks.push(callback);\n",
       "      if (window._bokeh_is_loading > 0) {\n",
       "        console.log(\"Bokeh: BokehJS is being loaded, scheduling callback at\", now());\n",
       "        return null;\n",
       "      }\n",
       "      if (js_urls == null || js_urls.length === 0) {\n",
       "        run_callbacks();\n",
       "        return null;\n",
       "      }\n",
       "      console.log(\"Bokeh: BokehJS not loaded, scheduling load and callback at\", now());\n",
       "      window._bokeh_is_loading = js_urls.length;\n",
       "      for (var i = 0; i < js_urls.length; i++) {\n",
       "        var url = js_urls[i];\n",
       "        var s = document.createElement('script');\n",
       "        s.src = url;\n",
       "        s.async = false;\n",
       "        s.onreadystatechange = s.onload = function() {\n",
       "          window._bokeh_is_loading--;\n",
       "          if (window._bokeh_is_loading === 0) {\n",
       "            console.log(\"Bokeh: all BokehJS libraries loaded\");\n",
       "            run_callbacks()\n",
       "          }\n",
       "        };\n",
       "        s.onerror = function() {\n",
       "          console.warn(\"failed to load library \" + url);\n",
       "        };\n",
       "        console.log(\"Bokeh: injecting script tag for BokehJS library: \", url);\n",
       "        document.getElementsByTagName(\"head\")[0].appendChild(s);\n",
       "      }\n",
       "    };var element = document.getElementById(\"7fe23faa-df22-4cb8-8aed-144017f1ee93\");\n",
       "    if (element == null) {\n",
       "      console.log(\"Bokeh: ERROR: autoload.js configured with elementid '7fe23faa-df22-4cb8-8aed-144017f1ee93' but no matching script tag was found. \")\n",
       "      return false;\n",
       "    }\n",
       "  \n",
       "    var js_urls = [];\n",
       "  \n",
       "    var inline_js = [\n",
       "      function(Bokeh) {\n",
       "        Bokeh.$(function() {\n",
       "            var docs_json = {\"adee2b8d-b5d9-4170-8b3b-7adb065dc488\":{\"roots\":{\"references\":[{\"attributes\":{\"fill_alpha\":{\"value\":0.1},\"fill_color\":{\"value\":\"#1f77b4\"},\"line_alpha\":{\"value\":0.1},\"line_color\":{\"value\":\"#1f77b4\"},\"size\":{\"units\":\"screen\",\"value\":8},\"x\":{\"field\":\"x\"},\"y\":{\"field\":\"y\"}},\"id\":\"454cd9e2-13c2-4c98-a0d3-4f013896c267\",\"type\":\"Circle\"},{\"attributes\":{},\"id\":\"2d8ff5a0-de75-4a2f-bc83-43fe5c603075\",\"type\":\"BasicTickFormatter\"},{\"attributes\":{\"formatter\":{\"id\":\"2d8ff5a0-de75-4a2f-bc83-43fe5c603075\",\"type\":\"BasicTickFormatter\"},\"plot\":{\"id\":\"532a1230-3b72-4fd9-9f79-304b06f210cd\",\"subtype\":\"Figure\",\"type\":\"Plot\"},\"ticker\":{\"id\":\"02d84c13-d548-4247-91a2-ad59e8521b31\",\"type\":\"BasicTicker\"}},\"id\":\"3ed67ad4-d6cf-4446-9b41-8fa2eecfc77b\",\"type\":\"LinearAxis\"},{\"attributes\":{\"data_source\":{\"id\":\"8ca31009-b4ae-42d8-9e33-cd44480a3ee8\",\"type\":\"ColumnDataSource\"},\"glyph\":{\"id\":\"19928c5d-3358-44ab-88bb-1b79f0702bdf\",\"type\":\"Line\"},\"hover_glyph\":null,\"nonselection_glyph\":{\"id\":\"76c00b49-29a1-4c19-8187-c8cf81025fa4\",\"type\":\"Line\"},\"selection_glyph\":null},\"id\":\"5a62db7f-9c56-4357-ad94-9fe57d87613b\",\"type\":\"GlyphRenderer\"},{\"attributes\":{\"line_alpha\":{\"value\":0.1},\"line_color\":{\"value\":\"#1f77b4\"},\"line_width\":{\"value\":5},\"x\":{\"field\":\"x\"},\"y\":{\"field\":\"ym\"}},\"id\":\"76c00b49-29a1-4c19-8187-c8cf81025fa4\",\"type\":\"Line\"},{\"attributes\":{\"callback\":null},\"id\":\"ae199587-7178-4b62-a6a4-97308691180a\",\"type\":\"DataRange1d\"},{\"attributes\":{\"plot\":{\"id\":\"532a1230-3b72-4fd9-9f79-304b06f210cd\",\"subtype\":\"Figure\",\"type\":\"Plot\"},\"ticker\":{\"id\":\"02d84c13-d548-4247-91a2-ad59e8521b31\",\"type\":\"BasicTicker\"}},\"id\":\"7e8340f1-e770-4933-bbbe-9933fce5ef8e\",\"type\":\"Grid\"},{\"attributes\":{\"formatter\":{\"id\":\"823b9b2d-87d1-4133-bbef-025f8dcea26c\",\"type\":\"BasicTickFormatter\"},\"plot\":{\"id\":\"532a1230-3b72-4fd9-9f79-304b06f210cd\",\"subtype\":\"Figure\",\"type\":\"Plot\"},\"ticker\":{\"id\":\"a596e1eb-8a17-4180-b4ec-97f88878bff3\",\"type\":\"BasicTicker\"}},\"id\":\"fcf9e5a5-c552-4dd4-b9f3-cb55cf11f3da\",\"type\":\"LinearAxis\"},{\"attributes\":{\"callback\":{\"id\":\"f88aaa0c-f9d0-4f8e-bff8-3383e67f87be\",\"type\":\"CustomJS\"},\"column_names\":[\"color\",\"y\",\"x\"],\"data\":{\"color\":[\"navy\",\"navy\",\"navy\",\"navy\",\"navy\",\"navy\",\"navy\",\"navy\",\"navy\",\"navy\",\"navy\",\"navy\",\"navy\",\"navy\",\"navy\",\"navy\",\"navy\",\"navy\",\"navy\",\"navy\",\"navy\",\"navy\",\"navy\",\"navy\",\"navy\",\"navy\",\"navy\",\"navy\",\"navy\",\"navy\",\"navy\",\"navy\",\"navy\",\"navy\",\"navy\",\"navy\",\"navy\",\"navy\",\"navy\",\"navy\",\"navy\",\"navy\",\"navy\",\"navy\",\"navy\",\"navy\",\"navy\",\"navy\",\"navy\",\"navy\",\"navy\",\"navy\",\"navy\",\"navy\",\"navy\",\"navy\",\"navy\",\"navy\",\"navy\",\"navy\",\"navy\",\"navy\",\"navy\",\"navy\",\"navy\",\"navy\",\"navy\",\"navy\",\"navy\",\"navy\",\"navy\",\"navy\",\"navy\",\"navy\",\"navy\",\"navy\",\"navy\",\"navy\",\"navy\",\"navy\",\"navy\",\"navy\",\"navy\",\"navy\",\"navy\",\"navy\",\"navy\",\"navy\",\"navy\",\"navy\",\"navy\",\"navy\",\"navy\",\"navy\",\"navy\",\"navy\",\"navy\",\"navy\",\"navy\",\"navy\",\"navy\",\"navy\",\"navy\",\"navy\",\"navy\",\"navy\",\"navy\",\"navy\",\"navy\",\"navy\",\"navy\",\"navy\",\"navy\",\"navy\",\"navy\",\"navy\",\"navy\",\"navy\",\"navy\",\"navy\",\"navy\",\"navy\",\"navy\",\"navy\",\"navy\",\"navy\",\"navy\",\"navy\",\"navy\",\"navy\",\"navy\",\"navy\",\"navy\",\"navy\",\"navy\",\"navy\",\"navy\",\"navy\",\"navy\",\"navy\",\"navy\",\"navy\",\"navy\",\"navy\",\"navy\",\"navy\",\"navy\",\"navy\",\"navy\",\"navy\",\"navy\",\"navy\",\"navy\",\"navy\",\"navy\",\"navy\",\"navy\",\"navy\",\"navy\",\"navy\",\"navy\",\"navy\",\"navy\",\"navy\",\"navy\",\"navy\",\"navy\",\"navy\",\"navy\",\"navy\",\"navy\",\"navy\",\"navy\",\"navy\",\"navy\",\"navy\",\"navy\",\"navy\",\"navy\",\"navy\",\"navy\",\"navy\",\"navy\",\"navy\",\"navy\",\"navy\",\"navy\",\"navy\",\"navy\",\"navy\",\"navy\",\"navy\",\"navy\",\"navy\",\"navy\",\"navy\",\"navy\",\"navy\",\"navy\",\"navy\",\"navy\",\"navy\",\"navy\",\"navy\",\"navy\",\"navy\",\"navy\",\"navy\",\"navy\",\"navy\",\"navy\",\"navy\",\"navy\",\"navy\",\"navy\",\"navy\",\"navy\",\"navy\",\"navy\",\"navy\",\"navy\",\"navy\",\"navy\",\"navy\",\"navy\",\"navy\",\"navy\",\"navy\",\"navy\",\"navy\",\"navy\",\"navy\",\"navy\",\"navy\",\"navy\",\"navy\",\"navy\",\"navy\",\"navy\",\"navy\",\"navy\",\"navy\",\"navy\",\"navy\",\"navy\",\"navy\",\"navy\",\"navy\",\"navy\",\"navy\",\"navy\",\"navy\",\"navy\",\"navy\",\"navy\",\"navy\",\"navy\",\"navy\",\"navy\",\"navy\",\"navy\",\"navy\",\"navy\",\"navy\",\"navy\",\"navy\",\"navy\",\"navy\",\"navy\",\"navy\",\"navy\",\"navy\",\"navy\",\"navy\",\"navy\",\"navy\",\"navy\",\"navy\",\"navy\",\"navy\",\"navy\",\"navy\",\"navy\",\"navy\",\"navy\",\"navy\",\"navy\",\"navy\",\"navy\",\"navy\",\"navy\",\"navy\",\"navy\",\"navy\",\"navy\",\"navy\",\"navy\",\"navy\",\"navy\",\"navy\",\"navy\",\"navy\",\"navy\",\"navy\",\"navy\",\"navy\",\"navy\",\"navy\",\"navy\",\"navy\",\"navy\",\"navy\",\"navy\",\"navy\",\"navy\",\"navy\",\"navy\",\"navy\",\"navy\",\"navy\",\"navy\",\"navy\",\"navy\",\"navy\",\"navy\",\"navy\",\"navy\",\"navy\",\"navy\",\"navy\",\"navy\",\"navy\",\"navy\",\"navy\",\"navy\",\"navy\",\"navy\",\"navy\",\"navy\",\"navy\",\"navy\",\"navy\",\"navy\",\"navy\",\"navy\",\"navy\",\"navy\",\"navy\",\"navy\",\"navy\",\"navy\",\"navy\",\"navy\",\"navy\",\"navy\",\"navy\",\"navy\",\"navy\",\"navy\",\"navy\",\"navy\",\"navy\",\"navy\",\"navy\",\"navy\",\"navy\",\"navy\",\"navy\",\"navy\",\"navy\",\"navy\",\"navy\",\"navy\",\"navy\",\"navy\",\"navy\",\"navy\",\"navy\",\"navy\",\"navy\",\"navy\",\"navy\",\"navy\",\"navy\",\"navy\",\"navy\",\"navy\",\"navy\",\"navy\",\"navy\",\"navy\",\"navy\",\"navy\",\"navy\",\"navy\",\"navy\",\"navy\",\"navy\",\"navy\",\"navy\",\"navy\",\"navy\",\"navy\",\"navy\",\"navy\",\"navy\",\"navy\",\"navy\",\"navy\",\"navy\",\"navy\",\"navy\",\"navy\",\"navy\",\"navy\",\"navy\",\"navy\",\"navy\",\"navy\",\"navy\",\"navy\",\"navy\",\"navy\",\"navy\",\"navy\",\"navy\",\"navy\",\"navy\",\"navy\",\"navy\",\"navy\",\"navy\",\"navy\",\"navy\",\"navy\",\"navy\",\"navy\",\"navy\",\"navy\",\"navy\",\"navy\",\"navy\",\"navy\",\"navy\",\"navy\",\"navy\",\"navy\",\"navy\",\"navy\",\"navy\",\"navy\",\"navy\",\"navy\",\"navy\",\"navy\",\"navy\",\"navy\",\"navy\",\"navy\",\"navy\",\"navy\",\"navy\",\"navy\",\"navy\",\"navy\",\"navy\",\"navy\",\"navy\",\"navy\",\"navy\",\"navy\",\"navy\",\"navy\",\"navy\",\"navy\",\"navy\",\"navy\",\"navy\",\"navy\",\"navy\",\"navy\",\"navy\",\"navy\",\"navy\",\"navy\",\"navy\",\"navy\",\"navy\",\"navy\",\"navy\",\"navy\",\"navy\",\"navy\",\"navy\",\"navy\",\"navy\",\"navy\",\"navy\",\"navy\",\"navy\"],\"x\":[0.4235876356556203,0.6295575689505483,0.6454485325467,0.2970258824530365,0.8261649102618946,0.9076891147176125,0.35039990321066206,0.961670082490609,0.9887391720220845,0.7804513365570269,0.22980152034474988,0.5955998869727721,0.6965089024260491,0.31475755537546657,0.2594083723047186,0.1824061404057935,0.34348791115762567,0.4270841834353074,0.3371265508529774,0.9332897499488374,0.4624429724269947,0.2675156876689878,0.8866189618453255,0.3994862725675036,0.20989222397636187,0.060277200195823166,0.892285721148461,0.4808553193997078,0.3466973891837184,0.27931868356214073,0.7758481686916558,0.383856380186098,0.32476395374399036,0.15607434050475255,0.13211575022263145,0.727406655846628,0.7179812702068429,0.6330788698788583,0.7365153910536898,0.7763310697348702,0.8371315140822052,0.41457585607211067,0.6485615072738861,0.40567611713489915,0.39124514458702864,0.6036627119914034,0.13700999506825107,0.38602003678246444,0.8912630898334601,0.4989719035195884,0.3345948805809177,0.9906727236073862,0.9046580145036417,0.342323896313973,0.7143332724818251,0.7668649048088159,0.9074819095103169,0.23932348707242057,0.43088142176732536,0.34095393666952756,0.9293678284788561,0.4008385477033023,0.471443668283427,0.2589989936807905,0.01097955255444083,0.643930896721152,0.6869409557928552,0.12719429668065563,0.448106074031539,0.35598046686416196,0.49631929038214884,0.9150181644237501,0.17771701367436565,0.44216914670188934,0.7105990451335478,0.36181027443459235,0.5794149246044996,0.7319186656760573,0.6775868789691423,0.7725677293409405,0.026413126554502342,0.35716531287202813,0.6386243522618068,0.7029276826535765,0.024860449061257173,0.23076249392916215,0.634839964867525,0.8342743805089908,0.5876457706320792,0.3334324864786421,0.30023794701116147,0.9090524710898099,0.8206854660278574,0.8314431392771608,0.26477705731858237,0.036602204522511395,0.7472390849567697,0.4044855673546045,0.0072565711313754555,0.6627728512066803,0.0880374022293976,0.4262120112120664,0.9425866280176841,0.6644733173792141,0.8877647459050387,0.7670740229103965,0.15560133246119257,0.7575175519376418,0.7932276585851767,0.22421984552441787,0.4147806432160378,0.8849528303100103,0.8906857279762407,0.4387342393585215,0.1897344517419851,0.1555129478412205,0.18151161346520472,0.9594459747982835,0.5649867194127097,0.3506291058897826,0.3628148213719755,0.6132683064610174,0.7538246971038152,0.6148537898847929,0.8881642013844899,0.4602964243096299,0.7470825687342401,0.03891793541883792,0.3336847186791084,0.9361245378131239,0.1597941251517756,0.3049123083683155,0.21960401131114293,0.7425088373862228,0.911020582602379,0.09487980902661997,0.980670693464382,0.4751787227626555,0.1408358770612662,0.9550523635834302,0.3747282781775031,0.9221149676386784,0.433611711931173,0.1214728842295788,0.9525384292476676,0.8675304277131805,0.485595203571352,0.4425066105701333,0.45323165976033564,0.5481578565594875,0.4157390304601466,0.28228222146129733,0.5773693000875916,0.6566978901374141,0.8907165360067965,0.9497467314362097,0.011371773054888679,0.6650839138366827,0.7603803896683425,0.6127851152445458,0.0885125456007475,0.5359484481869358,0.42505658617314546,0.49198345609453453,0.11652295202184193,0.050377858622288496,0.2256115595960667,0.8697781768704635,0.15965164453235603,0.7122183615119724,0.42874300228085604,0.9594756754122036,0.5206918471140967,0.7243257581075099,0.7310926422509162,0.3902719799272555,0.8527927050904516,0.5373944409439996,0.33742422053533205,0.19645119708976744,0.814773919941092,0.5347479965201313,0.9892551563135005,0.6341579887472902,0.24457355816764448,0.8360561126353332,0.6425233417193861,0.14182343853542534,0.5562922157195136,0.01580519626130228,0.31093007437388986,0.7577786467199294,0.46674538012932965,0.1860323010132081,0.3470830780285389,0.01733937324096202,0.6779669807257707,0.6580858813813467,0.6336403864383667,0.9237038349085885,0.26381854402712845,0.8851405566840319,0.34096861744941664,0.8817428050756714,0.8988849544445765,0.7332448586484592,0.9872631314544248,0.820179494478453,0.44348934848666166,0.2418080155085276,0.48911488774919865,0.17618047257502967,0.8307163848416109,0.16881374442449604,0.7262886246026422,0.5623921628548464,0.794177706388115,0.058739607377002234,0.0659950925074766,0.4887406445114847,0.3617782203133407,0.12259124975976077,0.004288577134256899,0.9557578653950815,0.529739734027268,0.17762778429674375,0.02941615198022096,0.7952084313656212,0.5411814691529917,0.10913902607837667,0.23389301314073696,0.6964435912182655,0.2285663815613762,0.05403418928543913,0.8272365941145994,0.9070175296276112,0.7041141187255828,0.896962618371501,0.22639283424394108,0.7344749782343628,0.6587602404679633,0.3230113789917244,0.9392687321840653,0.8815766030261372,0.6452071053211579,0.6811881530626226,0.5599554691386813,0.6557439195310314,0.6953137920334158,0.7802935614526493,0.3357668222157658,0.9816827462166265,0.13756324440323764,0.7979669437741376,0.8550002672545777,0.9758038841075547,0.9146404219791371,0.2377813394387881,0.6188192085064022,0.4066844059682576,0.1902321214549053,0.670550604589498,0.26387210428033503,0.927521989996831,0.9439503097704366,0.17002674894204217,0.8713961416265623,0.8809355084675035,0.9551732741055176,0.9532222505280872,0.6105180718612352,0.6246136304527944,0.4950417374763679,0.8868621211884716,0.31064836552509023,0.44846747834692,0.5707536462689898,0.9020678861822937,0.07705615896312334,0.6944111457931453,0.17611338099366036,0.26796890893169545,0.10622239941117328,0.5130808465246205,0.08757113979250353,0.2398134134197224,0.014466431879267105,0.4487842904541217,0.18871596769835108,0.016078121919044674,0.4557681304404434,0.4307642112147274,0.5906836653846635,0.8755170144857198,0.9356879747544099,0.9974093983195742,0.8968444430502988,0.5262710479954447,0.7542604999143178,0.353968159614222,0.6923129860471844,0.5686239753187475,0.7602432275482385,0.013341355000351274,0.27632317080045443,0.40878655143214637,0.4465048926566777,0.7310131557635839,0.8380470173472002,0.9361154787123541,0.2780611402119838,0.5605359059226751,0.7418005232765175,0.7671308417290308,0.7341895668847013,0.6769217390747252,0.08302349531859543,0.4983487741206233,0.7408977425352076,0.9706395357062627,0.025404400701308782,0.7914669546943377,0.4481095552171247,0.8969656694590221,0.7288044768844731,0.6936325521892969,0.8338948106847128,0.9376759600913935,0.189332691461492,0.689087238289009,0.18056424059438814,0.7656805790430016,0.7894932460352923,0.46507535524855226,0.5607206193333938,0.8908607918296306,0.07485356740147875,0.5447898166926174,0.2521498263951245,0.05820944970158559,0.0438127708001429,0.6766988075484673,0.9860748660049939,0.13982518107971076,0.20875003902604283,0.2201964681732268,0.06213358005498926,0.31007240125783353,0.7271879845928965,0.794785154501011,0.6774553548678157,0.26724117369152633,0.9939108733130144,0.39526749611318,0.873929606212635,0.5578290420267897,0.3136309252295495,0.33379523363270713,0.35504029056132147,0.05336005934530952,0.8899033389171427,0.7712263230118493,0.18908224138867424,0.7331547474997988,0.7901303047088727,0.8742831282183783,0.008870448798519504,0.7647564521972764,0.5060604843972003,0.5616894092550511,0.41546999971223986,0.11535079783587066,0.531470068520479,0.8929601346972889,0.7188954511949726,0.9059956442408874,0.7176886109181915,0.7192805821690014,0.6089683479499132,0.1945551150193422,0.05015765176375653,0.272275756241547,0.5185271686803278,0.5147363436111666,0.29397568378080485,0.6345267421672618,0.2972123824431935,0.5072838843704057,0.29895713074508445,0.04096595055873442,0.7964154174433802,0.12586955467909622,0.806703272711738,0.9148976377353318,0.5676112542171765,0.03346008020721081,0.05262566863361029,0.5897013439383608,0.46508269836090166,0.5491126888314636,0.8403173280536074,0.9840095351770496,0.0750601739427148,0.18646306955980707,0.8207124135989138,0.8578911170413274,0.4501709506330601,0.48968756873325825,0.3411090553572481,0.022404932424811563,0.5956689070588457,0.4692112965314733,0.7777065758914689,0.6112455883807578,0.712784085038825,0.6078867943447318,0.4212885821113167,0.7734055069950391,0.21889060276159522,0.09915897900621828,0.724595498125099,0.8707181345864057,0.9272315971225465,0.576942603168539,0.3763067118964716,0.12228727358386882,0.1731128731569076,0.8480385428835067,0.6001822626644666,0.7349759672211629,0.4949019506190574,0.2992768703665546,0.7709212387998059,0.15321543108823577,0.13457218805872262,0.23709714527317616,0.7640500725747186,0.7320927129650695,0.3239663150293901,0.3471771610186726,0.15585829561738362,0.9129004418281519,0.709857829725061,0.5822393720780092,0.5065194351009542,0.15584727884492267,0.9096008273884993,0.2262347687625359,0.06607236354044987,0.12866066997008507,0.9549478002352891,0.5802666498501393,0.5147660775155687,0.5635285236163836,0.7870241818188959,0.8963862126618751,0.9289148784566115,0.9240735961872667,0.07981028944154767,0.6205558394097273,0.9481828200502335,0.5043579625403913,0.6546988378330175,0.7710107280274808,0.4190773832958341,0.7639418875006393,0.3258882477729105,0.9226324212360724,0.49937867186831886,0.9532069414035681,0.31624680556141105,0.6847400426449973,0.5689206977323391,0.7286292862869898,0.5634671348560621,0.9333912353726245,0.49692310355570724,0.7800798414674881,0.0644323441319451,0.16512245796331837,0.12529013498678887,0.7892905229124395,0.5356377813191893,0.5098731214198008,0.11437363358214336,0.5149807164739829,0.12261021593984978,0.4172349854457509,0.6686689259149589,0.2952108067108651,0.1567345553053835,0.16037249371990692,0.3718408025696306,0.46460636580527936,0.8093457508376136,0.8853659822358446,0.5149902607224903,0.0869443742658047,0.48404999223949907,0.7827686368083266],\"y\":[0.46868274858484626,0.8361839265268263,0.11435684995962536,0.45993547208773455,0.33381576008772207,0.909112098222904,0.43133142948080627,0.43397453146505494,0.09601450553825241,0.00024637284177586594,0.3968035684028902,0.8904443671631775,0.3089138201614898,0.5964951524507215,0.7343034783795502,0.2449986176754284,0.4237810472322664,0.1916487734088208,0.8640056670153085,0.026377296771584735,0.6319738327334311,0.2366873717464565,0.9698450339237245,0.9098524194297912,0.7388636433320783,0.17362576975556987,0.09614438395492153,0.5941618736786131,0.10424234354292505,0.7574219874742656,0.8204946385508102,0.16888961372880096,0.04596931706490903,0.9456389230074754,0.24050782205752375,0.2077521466160689,0.5497601278513201,0.4946091765972923,0.6229613036629396,0.11000291207373658,0.2436061614182511,0.5357671912957962,0.7587412444046853,0.8893180353549908,0.22632672200393877,0.0073280976130896125,0.2467513432490579,0.5953773707811258,0.617322915817695,0.05209269156670193,0.7474632328531053,0.9461918280915013,0.032098414489111216,0.06974474213924908,0.506260325919713,0.5049256574451764,0.02690908758792132,0.15355328154121162,0.16772097488386473,0.9161733379520338,0.017685695356045472,0.85800086157145,0.6075561583816508,0.9631728146225821,0.987335477399868,0.05232262634852447,0.8772746268083784,0.6997059772280444,0.4234550476372373,0.9156433408362283,0.8860767094827424,0.09125727125472605,0.07147054670188513,0.02056806823404911,0.6756694551005544,0.4244787276673786,0.8356028854314191,0.10788442729512926,0.13749362345454297,0.6217948141036063,0.9740675043579755,0.7066688901505842,0.7122871384596248,0.6843113313310206,0.6902286671151137,0.8383362484681539,0.9965314106322788,0.3512118906643016,0.5841688749913677,0.5224254686709294,0.9268497576733085,0.1970796343913418,0.8502758656669606,0.4442604030113668,0.23266598879145384,0.07532704541233493,0.9581198016747949,0.8403963860175446,0.25129007073040455,0.44932647021112937,0.8479974696277519,0.922370329221648,0.7686200932133537,0.6043800226902283,0.030630851607042597,0.9221623818617984,0.4292188900742592,0.31559427458657774,0.7650563329935253,0.8312835731446335,0.8831499752155968,0.7641130655322056,0.7208145725015024,0.3147435000271218,0.5926954360948182,0.5432406438717317,0.21456786043275033,0.014138374592746583,0.2254519660278781,0.5380965393632478,0.17767787575580163,0.5225094314969435,0.20836000117258746,0.5242099237407916,0.7318002826730621,0.6110348038278302,0.9364740212890743,0.6428790364893637,0.5656511358662123,0.43375517349936665,0.021763640682057273,0.9139348087036375,0.4262621963072951,0.4463147595466076,0.9227573128987274,0.12441535754081823,0.6346377492312237,0.264396719781663,0.16081846018908852,0.9191283470710807,0.004347689111984909,0.8289559554926763,0.27924081334048445,0.6680764279109404,0.8693584477509889,0.6855394540717122,0.2081033516934413,0.7796639681145171,0.21087347582002414,0.9717432686241424,0.3529659482822428,0.5983713113117978,0.27243030717756855,0.636915706300484,0.2960582151734542,0.9972908914032971,0.3704545810631533,0.9287847114861771,0.35261915165666635,0.43247666838659204,0.9238261787683943,0.1694010558489608,0.9276005744898671,0.38378501045331437,0.5685964002022896,0.614449560680407,0.854925587183564,0.5180249048594318,0.2478806283024444,0.17319546285262932,0.528673969801864,0.9083882308895533,0.6563156110865441,0.5816550605299802,0.9314043792081191,0.5174722760443827,0.3099755858026436,0.4663565251693256,0.1248319806755257,0.09494243424004756,0.8721754933013851,0.9442655121489255,0.7853235000511936,0.713547150039544,0.17696353105051965,0.1725235118118541,0.7494331295289198,0.5736384819433763,0.7042346717627778,0.2224727104552282,0.9103254557408113,0.951702970054903,0.5241820282347176,0.7208173579937319,0.7796531447792884,0.8274347163322565,0.20923240563454215,0.23910388718406783,0.24663949007365427,0.4153635694691692,0.9349851217689874,0.33063581568279,0.6437767156160107,0.4648606689951531,0.032797830394224126,0.38771580566694464,0.08951396134736422,0.7209011398481355,0.1905985537841255,0.9060462258387084,0.7520115936722304,0.4917126116310967,0.5425067553625006,0.7954374410693361,0.6815451151809812,0.10515699585541194,0.7661402513054036,0.7943602607234502,0.2504860192394288,0.8439196052309619,0.12086299734216421,0.5575286728025907,0.19810804868843157,0.9078301509727938,0.6748898579348122,0.8539710725380355,0.8598047583216148,0.07787147818312268,0.7496352522229232,0.3882850354159061,0.6694918218947767,0.8808207244525322,0.47432687996679734,0.8505444561055391,0.5096599512464279,0.7995370663321885,0.5520509766052107,0.7590194367945373,0.9804664331271762,0.10802929892410007,0.23690082037255433,0.8680365394528536,0.10920028872027299,0.49786242539240055,0.16535472145385477,0.5194757805214528,0.6699183085247563,0.8511273427270548,0.28618447364479205,0.6717103741181247,0.9686164835791224,0.780730325369621,0.19620904673062167,0.26149642798602435,0.019613636489710595,0.12249789062700511,0.39101845966606297,0.9298419298426319,0.8103856064198539,0.40395610111530433,0.38888960592822175,0.8397476123193726,0.6946915188432621,0.44045958000875207,0.863998268423188,0.5730423443005486,0.21996089624290738,0.1631785879875458,0.289301277578054,0.3020937707818353,0.12133783412407884,0.08240351847410199,0.3095407683080166,0.5511034530930011,0.30530158552965925,0.8757912896752406,0.13217149602788714,0.11838531779092931,0.6789713717701599,0.1920552187482385,0.818916353750462,0.3211361626903464,0.2996737000696771,0.6408017573319456,0.4828067613355336,0.5550436207314859,0.13721946395669404,0.35329490879928405,0.7428169736196532,0.12855200869289796,0.637687713619903,0.27734553066001955,0.8203700647995901,0.42171023023114673,0.028328102009405942,0.5476072644986493,0.20862568195094855,0.6294373130760617,0.24879076653554832,0.5293340775184122,0.21696579363481827,0.5941389715634102,0.03993258869306249,0.3005971029058032,0.466901305340253,0.5699358715368189,0.6579651549876653,0.9520490170894371,0.19336871829076874,0.9120705455041263,0.19505779792813527,0.06722146730967682,0.653713425569226,0.28417667700784954,0.15557846942363673,0.6922020505323606,0.9448336235927755,0.25807793977334337,0.08886521666901104,0.8384734728213475,0.1500444757988657,0.48076202472187446,0.9321936279578964,0.2454844305362287,0.8777319910320917,0.4307401329540692,0.5139928424468326,0.04114026615939537,0.21916118052110978,0.43265832326385234,0.025433759520150034,0.7851018770574218,0.7334219235757576,0.796373049743544,0.4176712498281192,0.025298320777272232,0.9688267923746665,0.27201308218018405,0.7457369098830767,0.8851128592591648,0.06024857837537956,0.9258639155612659,0.3217567705471651,0.2846241832687778,0.46606545572615155,0.645039577749608,0.8543055538192053,0.4818807996831601,0.9666044996151105,0.1528007683016781,0.3836533051644154,0.5651390979430292,0.46321213515504234,0.6782728739012138,0.869494477715453,0.3584745073675505,0.5712352816563521,0.3973184030337973,0.868170186916931,0.6226626583324203,0.5818838958626659,0.8894766372758556,0.6182777223689323,0.3593142196217399,0.24412507686534646,0.7914452756020693,0.5320013880790574,0.9449850307575782,0.09941233436005237,0.9318465350003519,0.984187357775633,0.615040700839203,0.7215430101135807,0.28839850380338794,0.6484859324631391,0.5349383381797935,0.2561706549365741,0.25945174223616463,0.6614852718098739,0.016147698301774982,0.44071751516830626,0.5808204181490019,0.24168072845382105,0.828485890700672,0.12303873472329996,0.4858723050117587,0.38465263498749813,0.08295603330103896,0.6375278148278786,0.6230173501490441,0.5419534707590703,0.04944934500485065,0.4242623441571405,0.5384407275923385,0.5464844653649088,0.4383278946989416,0.1783069002830856,0.8672410982528577,0.19796253946952913,0.2806224592172829,0.7490831848981787,0.13537639623015885,0.9851416565346126,0.49074164608416615,0.4334991973794857,0.6760271417073963,0.4953458841556838,0.9259474406093953,0.07227485316958293,0.7848114592504013,0.008057878556908427,0.7082087819607193,0.5616167074207332,0.09824650307403171,0.6640447154724284,0.6180111781034143,0.5420259709824593,0.3302219504897912,0.16121192341794088,0.9973626923999268,0.7165795686322101,0.8555456724352823,0.8178440109804471,0.6742282234588086,0.6269648909318862,0.9026855430303936,0.11562504068713142,0.32037868787789825,0.9772791025054177,0.6794091491890624,0.27626376696995825,0.21679602126830266,0.8362876111328459,0.38350495075968016,0.3342323628339423,0.3796798665050555,0.3609386122080862,0.8783054569301019,0.7308611509263869,0.34972150233842425,0.5073314661010251,0.9560392885275623,0.3355435669361939,0.7874106484616226,0.08851174187329403,0.9449299244836246,0.6320783927581901,0.48098863202659303,0.4582556438837002,0.21274797820903235,0.22888961278450948,0.6179521481537996,0.815338474861847,0.7786636259471292,0.1529012846231298,0.8158197375125852,0.14532798471727004,0.0707127835348299,0.8051640200349157,0.371239179250639,0.2245096822968341,0.7968774940497776,0.03330978069553714,0.9953642826596217,0.870277795873374,0.19662727739714525,0.4915641228965588,0.8532982540992293,0.17243033631356386,0.5363782477599791,0.8151244910038179,0.11866780795722631,0.06012332490504124,0.8566275183146859,0.9482170962491241,0.9813453647253998,0.13125616113809846,0.7247863590957471,0.042715502827997076,0.5469279353088956,0.2921486117153196,0.4546405310022016,0.592463116450771,0.8390903032636013,0.0597753146710861,0.9002881800200637,0.5858235560223976,0.17457808010344167,0.20689070093458373,0.8542373507225396,0.6854327236127093,0.5529090638619636,0.538139925694596,0.0984779505611365,0.059733466127968926,0.9500592022945406,0.5273000195510833,0.24881052313402974,0.35397533173034934,0.37825137995629765]}},\"id\":\"1296238d-c9a6-48e1-98b5-bf4181d82416\",\"type\":\"ColumnDataSource\"},{\"attributes\":{},\"id\":\"a596e1eb-8a17-4180-b4ec-97f88878bff3\",\"type\":\"BasicTicker\"},{\"attributes\":{\"below\":[{\"id\":\"3ed67ad4-d6cf-4446-9b41-8fa2eecfc77b\",\"type\":\"LinearAxis\"}],\"left\":[{\"id\":\"fcf9e5a5-c552-4dd4-b9f3-cb55cf11f3da\",\"type\":\"LinearAxis\"}],\"plot_height\":400,\"plot_width\":400,\"renderers\":[{\"id\":\"3ed67ad4-d6cf-4446-9b41-8fa2eecfc77b\",\"type\":\"LinearAxis\"},{\"id\":\"7e8340f1-e770-4933-bbbe-9933fce5ef8e\",\"type\":\"Grid\"},{\"id\":\"fcf9e5a5-c552-4dd4-b9f3-cb55cf11f3da\",\"type\":\"LinearAxis\"},{\"id\":\"5bbb616b-b4c3-4983-8667-58602c6707c1\",\"type\":\"Grid\"},{\"id\":\"039fae18-c843-477e-a445-e02d18fcf832\",\"type\":\"PolyAnnotation\"},{\"id\":\"cfc22b83-f211-49c0-bc85-cbfdfce02c73\",\"type\":\"GlyphRenderer\"},{\"id\":\"5a62db7f-9c56-4357-ad94-9fe57d87613b\",\"type\":\"GlyphRenderer\"}],\"title\":\"Select Here\",\"tool_events\":{\"id\":\"f74e59c5-a775-43d8-a286-c32bd8cbbb04\",\"type\":\"ToolEvents\"},\"tools\":[{\"id\":\"80e10e9b-0b51-4657-a4dd-9cdcec0dd130\",\"type\":\"LassoSelectTool\"}],\"x_range\":{\"id\":\"ae199587-7178-4b62-a6a4-97308691180a\",\"type\":\"DataRange1d\"},\"y_range\":{\"id\":\"874eab68-166d-4a5e-8de3-bb1a9fccd1c6\",\"type\":\"DataRange1d\"}},\"id\":\"532a1230-3b72-4fd9-9f79-304b06f210cd\",\"subtype\":\"Figure\",\"type\":\"Plot\"},{\"attributes\":{\"data_source\":{\"id\":\"1296238d-c9a6-48e1-98b5-bf4181d82416\",\"type\":\"ColumnDataSource\"},\"glyph\":{\"id\":\"21c19818-308a-4d90-a96d-755d6fe9dc1a\",\"type\":\"Circle\"},\"hover_glyph\":null,\"nonselection_glyph\":{\"id\":\"454cd9e2-13c2-4c98-a0d3-4f013896c267\",\"type\":\"Circle\"},\"selection_glyph\":null},\"id\":\"cfc22b83-f211-49c0-bc85-cbfdfce02c73\",\"type\":\"GlyphRenderer\"},{\"attributes\":{\"callback\":null,\"column_names\":[\"ym\",\"x\"],\"data\":{\"x\":[0,1],\"ym\":[0.5,0.5]}},\"id\":\"8ca31009-b4ae-42d8-9e33-cd44480a3ee8\",\"type\":\"ColumnDataSource\"},{\"attributes\":{\"overlay\":{\"id\":\"039fae18-c843-477e-a445-e02d18fcf832\",\"type\":\"PolyAnnotation\"},\"plot\":{\"id\":\"532a1230-3b72-4fd9-9f79-304b06f210cd\",\"subtype\":\"Figure\",\"type\":\"Plot\"}},\"id\":\"80e10e9b-0b51-4657-a4dd-9cdcec0dd130\",\"type\":\"LassoSelectTool\"},{\"attributes\":{\"fill_alpha\":{\"value\":0.4},\"fill_color\":{\"field\":\"color\"},\"line_alpha\":{\"value\":0.4},\"line_color\":{\"field\":\"color\"},\"size\":{\"units\":\"screen\",\"value\":8},\"x\":{\"field\":\"x\"},\"y\":{\"field\":\"y\"}},\"id\":\"21c19818-308a-4d90-a96d-755d6fe9dc1a\",\"type\":\"Circle\"},{\"attributes\":{},\"id\":\"02d84c13-d548-4247-91a2-ad59e8521b31\",\"type\":\"BasicTicker\"},{\"attributes\":{},\"id\":\"823b9b2d-87d1-4133-bbef-025f8dcea26c\",\"type\":\"BasicTickFormatter\"},{\"attributes\":{},\"id\":\"f74e59c5-a775-43d8-a286-c32bd8cbbb04\",\"type\":\"ToolEvents\"},{\"attributes\":{\"callback\":null},\"id\":\"874eab68-166d-4a5e-8de3-bb1a9fccd1c6\",\"type\":\"DataRange1d\"},{\"attributes\":{\"line_alpha\":{\"value\":0.6},\"line_color\":{\"value\":\"orange\"},\"line_width\":{\"value\":5},\"x\":{\"field\":\"x\"},\"y\":{\"field\":\"ym\"}},\"id\":\"19928c5d-3358-44ab-88bb-1b79f0702bdf\",\"type\":\"Line\"},{\"attributes\":{\"args\":{\"s2\":{\"id\":\"8ca31009-b4ae-42d8-9e33-cd44480a3ee8\",\"type\":\"ColumnDataSource\"}},\"code\":\"\\n        var inds = cb_obj.get('selected')['1d'].indices;\\n        var d = cb_obj.get('data');\\n        var ym = 0\\n\\n        if (inds.length == 0) { return; }\\n\\n        for (i = 0; i < d['color'].length; i++) {\\n            d['color'][i] = \\\"navy\\\"\\n        }\\n        for (i = 0; i < inds.length; i++) {\\n            d['color'][inds[i]] = \\\"firebrick\\\"\\n            ym += d['y'][inds[i]]\\n        }\\n\\n        ym /= inds.length\\n        s2.get('data')['ym'] = [ym, ym]\\n\\n        cb_obj.trigger('change');\\n        s2.trigger('change');\\n    \"},\"id\":\"f88aaa0c-f9d0-4f8e-bff8-3383e67f87be\",\"type\":\"CustomJS\"},{\"attributes\":{\"dimension\":1,\"plot\":{\"id\":\"532a1230-3b72-4fd9-9f79-304b06f210cd\",\"subtype\":\"Figure\",\"type\":\"Plot\"},\"ticker\":{\"id\":\"a596e1eb-8a17-4180-b4ec-97f88878bff3\",\"type\":\"BasicTicker\"}},\"id\":\"5bbb616b-b4c3-4983-8667-58602c6707c1\",\"type\":\"Grid\"},{\"attributes\":{\"fill_alpha\":{\"value\":0.5},\"fill_color\":{\"value\":\"lightgrey\"},\"level\":\"overlay\",\"line_alpha\":{\"value\":1.0},\"line_color\":{\"value\":\"black\"},\"line_dash\":[4,4],\"line_width\":{\"value\":2},\"plot\":null,\"xs_units\":\"screen\",\"ys_units\":\"screen\"},\"id\":\"039fae18-c843-477e-a445-e02d18fcf832\",\"type\":\"PolyAnnotation\"}],\"root_ids\":[\"532a1230-3b72-4fd9-9f79-304b06f210cd\"]},\"title\":\"Bokeh Application\",\"version\":\"0.11.1\"}};\n",
       "            var render_items = [{\"docid\":\"adee2b8d-b5d9-4170-8b3b-7adb065dc488\",\"elementid\":\"7fe23faa-df22-4cb8-8aed-144017f1ee93\",\"modelid\":\"532a1230-3b72-4fd9-9f79-304b06f210cd\",\"notebook_comms_target\":\"725fc3a8-e330-4eca-88e5-6b2b71b44adc\"}];\n",
       "            \n",
       "            Bokeh.embed.embed_items(docs_json, render_items);\n",
       "        });\n",
       "      },\n",
       "      function(Bokeh) {\n",
       "      }\n",
       "    ];\n",
       "  \n",
       "    function run_inline_js() {\n",
       "      for (var i = 0; i < inline_js.length; i++) {\n",
       "        inline_js[i](window.Bokeh);\n",
       "      }\n",
       "    }\n",
       "  \n",
       "    if (window._bokeh_is_loading === 0) {\n",
       "      console.log(\"Bokeh: BokehJS loaded, going straight to plotting\");\n",
       "      run_inline_js();\n",
       "    } else {\n",
       "      load_libs(js_urls, function() {\n",
       "        console.log(\"Bokeh: BokehJS plotting callback run at\", now());\n",
       "        run_inline_js();\n",
       "      });\n",
       "    }\n",
       "  }(this));\n",
       "</script>"
      ]
     },
     "metadata": {},
     "output_type": "display_data"
    }
   ],
   "source": [
    "import interactive_bokeh_example"
   ]
  },
  {
   "cell_type": "code",
   "execution_count": 71,
   "metadata": {
    "collapsed": false
   },
   "outputs": [
    {
     "data": {
      "text/html": [
       "<iframe id=\"igraph\" scrolling=\"no\" style=\"border:none;\" seamless=\"seamless\" src=\"https://plot.ly/~streaming-demos/4.embed\" height=\"525\" width=\"100%\"></iframe>"
      ],
      "text/plain": [
       "<plotly.tools.PlotlyDisplay object>"
      ]
     },
     "execution_count": 71,
     "metadata": {},
     "output_type": "execute_result"
    }
   ],
   "source": [
    "import plotly\n",
    "\n",
    "import plotly.tools as tls \n",
    "tls.embed(\"https://plot.ly/~streaming-demos/4\")"
   ]
  },
  {
   "cell_type": "markdown",
   "metadata": {},
   "source": [
    "` `\n",
    "\n",
    "` `\n",
    "\n",
    "` `\n",
    "\n",
    "` `\n",
    "\n",
    "` `\n",
    "\n",
    "` `\n",
    "\n",
    "` `\n",
    "\n",
    "` `\n",
    "\n",
    "` `\n",
    "\n",
    "` `\n",
    "\n",
    "` `\n",
    "\n",
    "` `\n",
    "\n",
    "` `\n",
    "\n",
    "` `\n",
    "\n",
    "` `\n",
    "\n",
    "` `\n",
    "\n",
    "\n",
    "# Битва с финальным боссом\n",
    "\n",
    "При помощи интуиции, граффиков и вычислений попробуй выделить по признакам группу людей,\n",
    "в которой почти все выжили. \n",
    "\n",
    "Признаки - выражения вида:\n",
    "* [колонка] равно [значение] (пол = женский)\n",
    "* [математическое выражение] >, <, >= или <=  [значение]  (возраст старше 18 лет) (количество родственников минус родителей больше 1)\n",
    "* [колонка с именем] - [утверждение про имя]  (имя содержит \"Mr.\" и длинее 5 букв)\n",
    "\n",
    "Признаки могут использоваться через И и ИЛИ.\n",
    "\n",
    "(и только их. НЕ, импликация, XOR, эквивалентность, штрих Шифера и стрелка Пирса идут лесом)\n",
    "\n",
    "Например, все [старше 30 лет] И [из порта C] И ([родственников 0] ИЛИ [первый класс]) - это 4 признака\n",
    "\n",
    "При этом:\n",
    "* Чем больше выживших людей(количество, а не доля), тем лучше;\n",
    "* В группе обязательно должны выжить более 80% людей;\n",
    "* Желательно использовать не более 5 признаков;\n",
    " * Если нашёл более 1 такой группы - перечисли несколько;\n",
    "* Гипотеза должна подтверждаться запускабельным кодом, \n",
    " * который считает число людей и шанс выжить;\n",
    " * высший пилотаж - заправить это красивыми граффиками по теме;\n",
    "\n",
    "Напутствие - возможно, будет полезно сначала изучить данные, посмотреть на графики и обусдить идеи, а потом бросаться лихорадочно пробовать всё подряд."
   ]
  },
  {
   "cell_type": "code",
   "execution_count": null,
   "metadata": {
    "collapsed": false
   },
   "outputs": [],
   "source": [
    "#предварительные вычисления графики\n"
   ]
  },
  {
   "cell_type": "code",
   "execution_count": null,
   "metadata": {
    "collapsed": false
   },
   "outputs": [],
   "source": [
    "#пример для [старше 30 лет] И [из порта C] И ([родственников 0] ИЛИ [первый класс])\n",
    "\n",
    "data_with_age = data[~numpy.isnan(data.Age)]\n",
    "\n",
    "age_and_port = numpy.logical_and(data_with_age.Age > 30,data_with_age.Embarked == \"C\")\n",
    "\n",
    "#родственников на борту 0 или в первом классе\n",
    "sibsp_or_class = numpy.logical_or(data_with_age.SibSp ==0,data_with_age.Pclass ==1)\n",
    "\n",
    "#всё вместе\n",
    "group_indexer = numpy.logical_and(age_and_port,sibsp_or_class)\n",
    "\n",
    "#группа. Замените этот код на свою группу.\n",
    "group = data_with_age[group_indexer]\n"
   ]
  },
  {
   "cell_type": "code",
   "execution_count": null,
   "metadata": {
    "collapsed": false
   },
   "outputs": [],
   "source": [
    "print \"Количество человек:\",len(group)\n",
    "print \"Количество выживших:\", len(group[group.Survived == True])\n",
    "p_survived = numpy.average(group.Survived)\n",
    "print \"Вероятность выжить:\", p_survived\n",
    "print \"Достаточно выживших:\", p_survived > 0.8"
   ]
  },
  {
   "cell_type": "code",
   "execution_count": null,
   "metadata": {
    "collapsed": true
   },
   "outputs": [],
   "source": [
    "# Если ещё не устал - аналогично выдели группы людей, где все погибли"
   ]
  },
  {
   "cell_type": "markdown",
   "metadata": {},
   "source": [
    "[руководства по библиотекам]\n",
    "\n",
    "  * [NumPy](http://www.numpy.org/)\n",
    "    - [руководство для пользователей Matlab](http://wiki.scipy.org/NumPy_for_Matlab_Users)\n",
    "  * [Pandas](http://pandas.pydata.org/)\n",
    "    - [пример работы с данными при помощи pandas](http://nbviewer.ipython.org/github/agconti/kaggle-titanic/blob/master/Titanic.ipynb)\n",
    "  * [Matplotlib](http://matplotlib.org/index.html)\n",
    "    - [pyplot](http://matplotlib.org/api/pyplot_api.html) — эмуляция функционала графопостроений в Matlab\n",
    "    - [галерея примеров](http://matplotlib.org/gallery.html)\n",
    "  * [SciPy](http://scipy.org/)"
   ]
  }
 ],
 "metadata": {
  "kernelspec": {
   "display_name": "Python 2",
   "language": "python",
   "name": "python2"
  },
  "language_info": {
   "codemirror_mode": {
    "name": "ipython",
    "version": 2
   },
   "file_extension": ".py",
   "mimetype": "text/x-python",
   "name": "python",
   "nbconvert_exporter": "python",
   "pygments_lexer": "ipython2",
   "version": "2.7.6"
  }
 },
 "nbformat": 4,
 "nbformat_minor": 0
}
