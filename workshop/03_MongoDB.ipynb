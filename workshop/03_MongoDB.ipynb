{
 "cells": [
  {
   "cell_type": "markdown",
   "metadata": {},
   "source": [
    "# Работа с базой данных MongoDB\n",
    "\n",
    "_Петр Ромов_"
   ]
  },
  {
   "cell_type": "markdown",
   "metadata": {},
   "source": [
    "## Формат JSON\n",
    "\n",
    "[Описание на Википедии](https://ru.wikipedia.org/wiki/JSON)\n",
    "\n",
    "Позволяет описывать данные, которые не имеют строгой табличной структуры. Объекты (документы) записанные в формате JSON могут содержать:\n",
    " - произвольный набор полей\n",
    " - поля могут иметь один из типов:\n",
    "   - строка\n",
    "   - числовое значение\n",
    "   - массив\n",
    "   - вложенный объект\n",
    " - поля могут содержать \"пустые\" значения — `null`\n",
    "\n",
    "**Пример**: запись в телефонной книге\n",
    "```json\n",
    "{\n",
    "   \"firstName\": \"Иван\",\n",
    "   \"lastName\": \"Иванов\",\n",
    "   \"address\": {\n",
    "       \"streetAddress\": \"Московское ш., 101, кв.101\",\n",
    "       \"city\": \"Ленинград\",\n",
    "       \"postalCode\": 101101\n",
    "   },\n",
    "   \"phoneNumbers\": [\n",
    "       \"812 123-1234\",\n",
    "       \"916 123-4567\"\n",
    "   ]\n",
    "}\n",
    "```"
   ]
  },
  {
   "cell_type": "markdown",
   "metadata": {},
   "source": [
    "## MongoDB\n",
    "\n",
    "MongoDB — СУБД, которая позволяет работать с **базами данных** (database). База данных состоит из **коллекций** (collection). Коллекции содержат **документы** (documents). Документы представлены в формате JSON. \n",
    "\n",
    "Никаких ограничений на схему базы данных, формат коллекций не накладывается (в отличие от SQL-баз данных, в которых прежде чем записать данные, необходимо сначала задать схему таблиц).\n",
    "\n",
    "Каждый документ содержит специальное поле `\"_id\"` (идентификатор) — это основной ключ, по которому происходит поиск документов в базе данных. Идентификатор уникален для каждого документа. Если вы не указываете поле `\"_id\"` при создании документа в коллекции, MongoDB создает его за вас. Если вы попытаетесь записать документ, у которого дублируется `\"_id\"` с другим объектом — получите ошибку от базы данных.\n",
    "\n",
    "![](http://csharpcorner.mindcrackerinc.netdna-cdn.com/UploadFile/370e35/getting-started-with-mongodb-and-Asp-Net-mvc4-day-2/Images/MongoDB%20Collection.jpg)"
   ]
  },
  {
   "cell_type": "markdown",
   "metadata": {},
   "source": [
    "##### Для работы с MongoDB в Python есть специальный модуль — импортируем его"
   ]
  },
  {
   "cell_type": "code",
   "execution_count": 1,
   "metadata": {
    "collapsed": true
   },
   "outputs": [],
   "source": [
    "import pymongo"
   ]
  },
  {
   "cell_type": "markdown",
   "metadata": {},
   "source": [
    "##### Подключаемся к удаленной базе данных, в которой лежат данные"
   ]
  },
  {
   "cell_type": "code",
   "execution_count": 2,
   "metadata": {
    "collapsed": true
   },
   "outputs": [],
   "source": [
    "client = pymongo.MongoClient('goto.reproducible.work')"
   ]
  },
  {
   "cell_type": "markdown",
   "metadata": {},
   "source": [
    "##### Выбираем нужную базу данных\n",
    "\n",
    "В нашем случае — база данных, которая называется `vk`."
   ]
  },
  {
   "cell_type": "code",
   "execution_count": 3,
   "metadata": {
    "collapsed": true
   },
   "outputs": [],
   "source": [
    "db = client['vk']"
   ]
  },
  {
   "cell_type": "markdown",
   "metadata": {},
   "source": [
    "##### Список коллекций, которые содержит база данных"
   ]
  },
  {
   "cell_type": "code",
   "execution_count": 4,
   "metadata": {
    "collapsed": false
   },
   "outputs": [
    {
     "data": {
      "text/plain": [
       "[u'friends', u'users', u'walls']"
      ]
     },
     "execution_count": 4,
     "metadata": {},
     "output_type": "execute_result"
    }
   ],
   "source": [
    "db.collection_names()"
   ]
  },
  {
   "cell_type": "markdown",
   "metadata": {},
   "source": [
    "##### Можно посмотреть число документов в коллекции"
   ]
  },
  {
   "cell_type": "code",
   "execution_count": 5,
   "metadata": {
    "collapsed": false
   },
   "outputs": [
    {
     "data": {
      "text/plain": [
       "730727"
      ]
     },
     "execution_count": 5,
     "metadata": {},
     "output_type": "execute_result"
    }
   ],
   "source": [
    "db['users'].count()"
   ]
  },
  {
   "cell_type": "code",
   "execution_count": 6,
   "metadata": {
    "collapsed": false
   },
   "outputs": [
    {
     "name": "stdout",
     "output_type": "stream",
     "text": [
      "friends 730727\n",
      "users 730727\n",
      "walls 730727\n"
     ]
    }
   ],
   "source": [
    "for collection_name in db.collection_names():\n",
    "    print collection_name, db[collection_name].count()"
   ]
  },
  {
   "cell_type": "markdown",
   "metadata": {},
   "source": [
    "##### Возьмем произвольную запись из коллекции `users` и разберем ее содержимое"
   ]
  },
  {
   "cell_type": "code",
   "execution_count": 7,
   "metadata": {
    "collapsed": true
   },
   "outputs": [],
   "source": [
    "user = db['users'].find_one()"
   ]
  },
  {
   "cell_type": "markdown",
   "metadata": {},
   "source": [
    "```json\n",
    "{\n",
    "  \"_id\": 111499, \n",
    "  \n",
    "  \"first_name\": \"Андрей\", \n",
    "  \"sex\": 2, \n",
    "  \"bdate\": \"23.9.1999\", \n",
    "  \n",
    "  \"about\": \"Жизнелюб\", \n",
    "  \"interests\": \"Немного спорта\", \n",
    "  \"movies\": \"Те которые можно назвать хитами в кинематографе\", \n",
    "  \"tv\": \"НЕТ\", \n",
    "  \"books\": \"ФИЛОСОФИЯ И ПСИХОЛОГИЯ\", \n",
    "  \"games\": \"Логика\", \n",
    "  \"quotes\": \"… лучшая доля не воздерживаться от наслаждений,\\n\n",
    "             А в том, чтобы властвовать над ними,\\n\n",
    "             Не подчиняясь им.  АРИСТИПП\\n\", \n",
    "  \n",
    "  \"university_name\": \"ИФЭП ОЗ\", \n",
    "  \"education_status\": \"Выпускник (специалист)\", \n",
    "  \"universities\": [\n",
    "    {\n",
    "      \"city\": 1, \n",
    "      \"name\": \"ИФЭП ОЗ\", \n",
    "      \"country\": 1, \n",
    "      \"education_form\": \"Заочное отделение\", \n",
    "      \"graduation\": 2006, \n",
    "      \"education_status\": \"Выпускник (специалист)\", \n",
    "      \"faculty_name\": \"Юриспруденция\", \n",
    "      \"faculty\": 120881, \n",
    "      \"id\": 65746\n",
    "    }\n",
    "  ], \n",
    "  \n",
    "  \"occupation\": {\n",
    "    \"type\": \"university\", \n",
    "    \"id\": 65746, \n",
    "    \"name\": \"ИФЭП ОЗ\"\n",
    "  }, \n",
    "\n",
    "  \"city\": {\n",
    "    \"id\": 1, \n",
    "    \"title\": \"Москва\"\n",
    "  }, \n",
    "  \n",
    "  \"personal\": {\n",
    "    \"smoking\": 3, \n",
    "    \"political\": 8, \n",
    "    \"alcohol\": 4\n",
    "  }, \n",
    "\n",
    "  ...\n",
    "}\n",
    "```"
   ]
  },
  {
   "cell_type": "markdown",
   "metadata": {},
   "source": [
    "##### Как вывести JSON в читаемом формате?"
   ]
  },
  {
   "cell_type": "code",
   "execution_count": 8,
   "metadata": {
    "collapsed": false
   },
   "outputs": [
    {
     "name": "stdout",
     "output_type": "stream",
     "text": [
      "{\n",
      "    \"interests\": \"Немного спорта\", \n",
      "    \"domain\": \"soop81\", \n",
      "    \"can_see_audio\": 1, \n",
      "    \"university_name\": \"ИФЭП ОЗ\", \n",
      "    \"site\": \"\", \n",
      "    \"education_status\": \"Выпускник (специалист)\", \n",
      "    \"quotes\": \"… лучшая доля не воздерживаться от наслаждений,\\nА в том, чтобы властвовать над ними,\\nНе подчиняясь им.                                                                                   АРИСТИПП\\n\", \n",
      "    \"can_see_all_posts\": 1, \n",
      "    \"relation\": 0, \n",
      "    \"occupation\": {\n",
      "        \"type\": \"univers...\n"
     ]
    }
   ],
   "source": [
    "import json\n",
    "\n",
    "print json.dumps(user, indent=4, encoding='utf8', ensure_ascii=False)[:500] + '...'"
   ]
  },
  {
   "cell_type": "markdown",
   "metadata": {},
   "source": [
    "## Итерация по объектам коллекции"
   ]
  },
  {
   "cell_type": "markdown",
   "metadata": {},
   "source": [
    "Итерация по объектам коллекции делается при помощи **курсоров**.\n",
    "\n",
    "Курсор (в терминах MongoDB) — объект, который содержит результат запроса к базе данных, т.е. последовательность найденных документов. Найденные документы загружаются из базы данных последовательно, по необходимости.\n",
    "\n",
    "Запросы к коллекции MongoDB делаются при помощи метода `collection.find()`, который и возвращает курсор. По-умолчанию метод `find()` находит все имеющиеся документы в коллекции."
   ]
  },
  {
   "cell_type": "markdown",
   "metadata": {},
   "source": [
    "##### Создадим курсор, указывающий на все документы в коллекции"
   ]
  },
  {
   "cell_type": "code",
   "execution_count": 9,
   "metadata": {
    "collapsed": true
   },
   "outputs": [],
   "source": [
    "users_collection = db['users']\n",
    "\n",
    "cursor = users_collection.find()"
   ]
  },
  {
   "cell_type": "markdown",
   "metadata": {},
   "source": [
    "##### Количество документов, на которые указывает курсор"
   ]
  },
  {
   "cell_type": "code",
   "execution_count": 10,
   "metadata": {
    "collapsed": false
   },
   "outputs": [
    {
     "data": {
      "text/plain": [
       "730727"
      ]
     },
     "execution_count": 10,
     "metadata": {},
     "output_type": "execute_result"
    }
   ],
   "source": [
    "cursor.count()"
   ]
  },
  {
   "cell_type": "markdown",
   "metadata": {},
   "source": [
    "##### Найденный документ по его порядковому номеру (в списке найденных)"
   ]
  },
  {
   "cell_type": "code",
   "execution_count": 11,
   "metadata": {
    "collapsed": false
   },
   "outputs": [
    {
     "data": {
      "text/plain": [
       "{u'_id': 149589,\n",
       " u'about': u'',\n",
       " u'activities': u'123\\u0444\\u043a\\u0432\\u043f\\u0440\\u044b\\u043a\\u043f\\u0440\\u0432\\u0430',\n",
       " u'bdate': u'1.1.1998',\n",
       " u'books': u'',\n",
       " u'can_post': 1,\n",
       " u'can_see_all_posts': 1,\n",
       " u'can_see_audio': 1,\n",
       " u'can_write_private_message': 1,\n",
       " u'city': {u'id': 1, u'title': u'\\u041c\\u043e\\u0441\\u043a\\u0432\\u0430'},\n",
       " u'common_count': 0,\n",
       " u'country': {u'id': 1, u'title': u'\\u0420\\u043e\\u0441\\u0441\\u0438\\u044f'},\n",
       " u'domain': u'id149589',\n",
       " u'faculty': 0,\n",
       " u'faculty_name': u'',\n",
       " u'first_name': u'\\u0421\\u0430\\u043d\\u044f',\n",
       " u'games': u'',\n",
       " u'graduation': 0,\n",
       " u'has_mobile': 0,\n",
       " u'interests': u'\\u0432\\u043e\\u043f\\u0440\\u043e\\u0430\\u043b\\u0430\\u0430\\u0440',\n",
       " u'last_seen': {u'platform': 7, u'time': 1303674215},\n",
       " u'movies': u'hkfhkfhfh',\n",
       " u'music': u'mvhjmfkfhkfhkf',\n",
       " u'occupation': {u'id': 106,\n",
       "  u'name': u'\\u0412\\u0423 \\u041c\\u041e \\u0420\\u0424 (\\u0431\\u044b\\u0432\\u0448. \\u0412\\u041f\\u0410 \\u0438\\u043c. \\u041b\\u0435\\u043d\\u0438\\u043d\\u0430)',\n",
       "  u'type': u'university'},\n",
       " u'online': 0,\n",
       " u'personal': {u'political': 8},\n",
       " u'quotes': u'',\n",
       " u'relation': 1,\n",
       " u'relatives': [],\n",
       " u'schools': [{u'city': 1,\n",
       "   u'class': u'\\u0433',\n",
       "   u'country': 1,\n",
       "   u'id': u'960798',\n",
       "   u'name': u'\\u0426\\u041e 1475 ',\n",
       "   u'year_from': 2006,\n",
       "   u'year_graduated': 2014,\n",
       "   u'year_to': 2013}],\n",
       " u'screen_name': u'id149589',\n",
       " u'sex': 2,\n",
       " u'site': u'',\n",
       " u'status': u'',\n",
       " u'tv': u'',\n",
       " u'universities': [{u'city': 1,\n",
       "   u'country': 1,\n",
       "   u'id': 106,\n",
       "   u'name': u'\\u0412\\u0423 \\u041c\\u041e \\u0420\\u0424 (\\u0431\\u044b\\u0432\\u0448. \\u0412\\u041a\\u0418\\u041c\\u041e \\u0421\\u0421\\u0421\\u0420)'}],\n",
       " u'university': 106,\n",
       " u'university_name': u'\\u0412\\u0423 \\u041c\\u041e \\u0420\\u0424 (\\u0431\\u044b\\u0432\\u0448. \\u0412\\u041f\\u0410 \\u0438\\u043c. \\u041b\\u0435\\u043d\\u0438\\u043d\\u0430)'}"
      ]
     },
     "execution_count": 11,
     "metadata": {},
     "output_type": "execute_result"
    }
   ],
   "source": [
    "cursor[4]"
   ]
  },
  {
   "cell_type": "markdown",
   "metadata": {},
   "source": [
    "##### Можно взять первые несколько документов из курсора\n",
    "\n",
    "Для этого используется метод `.limit(n)`, который возвращает курсор, указывающий на первые n документов."
   ]
  },
  {
   "cell_type": "code",
   "execution_count": 12,
   "metadata": {
    "collapsed": false
   },
   "outputs": [],
   "source": [
    "first_records = cursor.limit(10)"
   ]
  },
  {
   "cell_type": "markdown",
   "metadata": {},
   "source": [
    "##### Загрузим все документы из курсора в python-список\n",
    "\n",
    "Обратите внмание на то, что эту операцию можно делать только в случае, если вы уверены в том, что найденных документов мало и они помещаются в память"
   ]
  },
  {
   "cell_type": "code",
   "execution_count": 13,
   "metadata": {
    "collapsed": false
   },
   "outputs": [],
   "source": [
    "list_of_records = list(first_records)"
   ]
  },
  {
   "cell_type": "markdown",
   "metadata": {},
   "source": [
    "##### Итерация по документам в цикле"
   ]
  },
  {
   "cell_type": "code",
   "execution_count": 14,
   "metadata": {
    "collapsed": true
   },
   "outputs": [],
   "source": [
    "def process(doc):\n",
    "    pass\n",
    "    \n",
    "for doc in cursor:\n",
    "    process(doc)"
   ]
  },
  {
   "cell_type": "markdown",
   "metadata": {},
   "source": [
    "**Обратите внимание!** После того как курсор передал в цикле все найденные документы, он больше не будет итерироваться по ним, придется создавать новый курсор при помощи метода `find()`."
   ]
  },
  {
   "cell_type": "markdown",
   "metadata": {},
   "source": [
    "## Язык запросов MongoDB\n",
    "\n",
    "Полезные ссылки для ознакомления:\n",
    "  - [Вики-статья с описанием языка запросов](http://softtime.info/view/Язык_запросов_MongoDB)\n",
    "  - [Статья на Хабре про запросы к MongoDB](https://habrahabr.ru/post/134590/)\n",
    "  - [Примеры запросов (на английском)](https://docs.mongodb.org/manual/reference/sql-comparison/)\n",
    "  - [Оригинальная документация по методу `find()` (на английском)](https://docs.mongodb.org/v3.0/reference/method/db.collection.find/)"
   ]
  },
  {
   "cell_type": "markdown",
   "metadata": {},
   "source": [
    "##### Метод `find()`\n",
    "\n",
    "Синтаксис:\n",
    "```python\n",
    "collection.find(filter, projection, limit=N, skip=N, sort=<sort order>)\n",
    "```"
   ]
  },
  {
   "cell_type": "markdown",
   "metadata": {},
   "source": [
    "### Фильтрация"
   ]
  },
  {
   "cell_type": "markdown",
   "metadata": {},
   "source": [
    "##### Сколько пользователей с именем \"Василий\"?"
   ]
  },
  {
   "cell_type": "code",
   "execution_count": 15,
   "metadata": {
    "collapsed": false
   },
   "outputs": [
    {
     "data": {
      "text/plain": [
       "1146"
      ]
     },
     "execution_count": 15,
     "metadata": {},
     "output_type": "execute_result"
    }
   ],
   "source": [
    "users_collection.find({'first_name': u'Василий'}).count()"
   ]
  },
  {
   "cell_type": "markdown",
   "metadata": {},
   "source": [
    "##### Василиев, у которых указан университет?"
   ]
  },
  {
   "cell_type": "code",
   "execution_count": 16,
   "metadata": {
    "collapsed": false
   },
   "outputs": [
    {
     "data": {
      "text/plain": [
       "933"
      ]
     },
     "execution_count": 16,
     "metadata": {},
     "output_type": "execute_result"
    }
   ],
   "source": [
    "cursor = users_collection.find({\n",
    "        'first_name': u'Василий',\n",
    "        'university_name': {'$exists': True},\n",
    "    })\n",
    "cursor.count()"
   ]
  },
  {
   "cell_type": "markdown",
   "metadata": {},
   "source": [
    "##### Сколько пользователей с числом друзей, большим 9000?"
   ]
  },
  {
   "cell_type": "code",
   "execution_count": 17,
   "metadata": {
    "collapsed": true
   },
   "outputs": [],
   "source": [
    "friends_collection = db['friends']"
   ]
  },
  {
   "cell_type": "code",
   "execution_count": 18,
   "metadata": {
    "collapsed": false
   },
   "outputs": [
    {
     "data": {
      "text/plain": [
       "36"
      ]
     },
     "execution_count": 18,
     "metadata": {},
     "output_type": "execute_result"
    }
   ],
   "source": [
    "friends_collection.find({'response.count': {'$gt': 9000}}).count()"
   ]
  },
  {
   "cell_type": "markdown",
   "metadata": {},
   "source": [
    "##### Список таких пользователей"
   ]
  },
  {
   "cell_type": "code",
   "execution_count": 19,
   "metadata": {
    "collapsed": true
   },
   "outputs": [],
   "source": [
    "friends_9k_plus = list(friends_collection.find({'response.count': {'$gt': 9000}}))"
   ]
  },
  {
   "cell_type": "markdown",
   "metadata": {},
   "source": [
    "### Проецирование\n",
    "\n",
    "Проецирование означает что из найденных документов нужно взять только определенные поля (те, которые необходимы для обработки) — это позволяет очень сильно экономить память и выигрывать в скорости обработки данных. Всегда указывайте параметр `projection`, если вам не нужны все поля из документа."
   ]
  },
  {
   "cell_type": "markdown",
   "metadata": {},
   "source": [
    "##### К примеру, мы хотим вывести только названия университетов выбранных пользователей"
   ]
  },
  {
   "cell_type": "code",
   "execution_count": 21,
   "metadata": {
    "collapsed": false
   },
   "outputs": [
    {
     "name": "stdout",
     "output_type": "stream",
     "text": [
      "User 111499  university: ИФЭП ОЗ\n",
      "User 149589  university: ВУ МО РФ (бывш. ВПА им. Ленина)\n",
      "User 259973  university: \n",
      "User 337203  university: АФСБ РФ\n",
      "User 392936  university: АПИ при ИГиП РАН\n",
      "User 421623  university: \n",
      "User 439255  university: \n",
      "User 514288  university: РГУП (бывш. РАП)\n",
      "User 644223  university: \n",
      "User 704101  university: Финансовый университет (ФА)  при Правительстве РФ\n",
      "User 838187  university: Финансовый университет (ФА)  при Правительстве РФ\n",
      "User 859548  university: ДА МИД РФ\n",
      "User 867882  university: МГТУ им. Н. Э. Баумана\n",
      "User 889859  university: МГСУ НИУ (МГСУ-МИСИ)\n",
      "User 793098  university: РУДН\n",
      "User 922143  university: НИЯУ МИФИ\n",
      "User 945084  university: \n",
      "User 954283  university: \n",
      "User 957547  university: МИР\n",
      "User 975981  university: MHH\n"
     ]
    }
   ],
   "source": [
    "query = {'university_name': {'$exists': True}}\n",
    "\n",
    "for user in users_collection.find(query, {'university_name': 1}, limit=20):\n",
    "    print 'User', user['_id'], ' university:', user['university_name']"
   ]
  },
  {
   "cell_type": "markdown",
   "metadata": {},
   "source": [
    "## Составление таблицы\n",
    "\n",
    "Анализировать данные удобнее всего, представив их в табличном виде. Представить документы, полученные по запросу в MongoDB в виде таблицы можно при помощи метода `pandas.DataFrame.from_records()`:"
   ]
  },
  {
   "cell_type": "code",
   "execution_count": 29,
   "metadata": {
    "collapsed": true
   },
   "outputs": [],
   "source": [
    "query = {\n",
    "        'university_name': u'МГУ',\n",
    "    }\n",
    "\n",
    "projection = {\n",
    "    'university_name': 1,\n",
    "    'first_name': 1,\n",
    "    'bdate': 1,\n",
    "    'city.title': 1,\n",
    "}\n",
    "\n",
    "cursor = users_collection.find(query, projection)"
   ]
  },
  {
   "cell_type": "markdown",
   "metadata": {},
   "source": [
    "##### Ожидаемое число строчек в таблице"
   ]
  },
  {
   "cell_type": "code",
   "execution_count": 30,
   "metadata": {
    "collapsed": false
   },
   "outputs": [
    {
     "data": {
      "text/plain": [
       "71449"
      ]
     },
     "execution_count": 30,
     "metadata": {},
     "output_type": "execute_result"
    }
   ],
   "source": [
    "cursor.count()"
   ]
  },
  {
   "cell_type": "markdown",
   "metadata": {},
   "source": [
    "##### Составляем таблицу из найденных JSON-документов"
   ]
  },
  {
   "cell_type": "code",
   "execution_count": 31,
   "metadata": {
    "collapsed": false
   },
   "outputs": [],
   "source": [
    "import pandas\n",
    "df_msu_students = pandas.DataFrame.from_records(cursor)"
   ]
  },
  {
   "cell_type": "code",
   "execution_count": 32,
   "metadata": {
    "collapsed": false
   },
   "outputs": [
    {
     "data": {
      "text/html": [
       "<div>\n",
       "<table border=\"1\" class=\"dataframe\">\n",
       "  <thead>\n",
       "    <tr style=\"text-align: right;\">\n",
       "      <th></th>\n",
       "      <th>_id</th>\n",
       "      <th>bdate</th>\n",
       "      <th>city</th>\n",
       "      <th>first_name</th>\n",
       "      <th>university_name</th>\n",
       "    </tr>\n",
       "  </thead>\n",
       "  <tbody>\n",
       "    <tr>\n",
       "      <th>0</th>\n",
       "      <td>1184434</td>\n",
       "      <td>24.3.1999</td>\n",
       "      <td>{u'title': u'Москва'}</td>\n",
       "      <td>Захар</td>\n",
       "      <td>МГУ</td>\n",
       "    </tr>\n",
       "    <tr>\n",
       "      <th>1</th>\n",
       "      <td>1912115</td>\n",
       "      <td>22.6.1998</td>\n",
       "      <td>{u'title': u'Москва'}</td>\n",
       "      <td>Наталья</td>\n",
       "      <td>МГУ</td>\n",
       "    </tr>\n",
       "    <tr>\n",
       "      <th>2</th>\n",
       "      <td>1923901</td>\n",
       "      <td>1.2.1998</td>\n",
       "      <td>{u'title': u'Москва'}</td>\n",
       "      <td>Дарья</td>\n",
       "      <td>МГУ</td>\n",
       "    </tr>\n",
       "    <tr>\n",
       "      <th>3</th>\n",
       "      <td>2187145</td>\n",
       "      <td>26.5.1998</td>\n",
       "      <td>{u'title': u'Москва'}</td>\n",
       "      <td>Вадим</td>\n",
       "      <td>МГУ</td>\n",
       "    </tr>\n",
       "    <tr>\n",
       "      <th>4</th>\n",
       "      <td>3235498</td>\n",
       "      <td>21.4.2001</td>\n",
       "      <td>{u'title': u'Москва'}</td>\n",
       "      <td>Роберт</td>\n",
       "      <td>МГУ</td>\n",
       "    </tr>\n",
       "  </tbody>\n",
       "</table>\n",
       "</div>"
      ],
      "text/plain": [
       "       _id      bdate                   city first_name university_name\n",
       "0  1184434  24.3.1999  {u'title': u'Москва'}      Захар             МГУ\n",
       "1  1912115  22.6.1998  {u'title': u'Москва'}    Наталья             МГУ\n",
       "2  1923901   1.2.1998  {u'title': u'Москва'}      Дарья             МГУ\n",
       "3  2187145  26.5.1998  {u'title': u'Москва'}      Вадим             МГУ\n",
       "4  3235498  21.4.2001  {u'title': u'Москва'}     Роберт             МГУ"
      ]
     },
     "execution_count": 32,
     "metadata": {},
     "output_type": "execute_result"
    }
   ],
   "source": [
    "df_msu_students.head()"
   ]
  },
  {
   "cell_type": "markdown",
   "metadata": {},
   "source": [
    "## Задание\n",
    "\n",
    "При помощи языка запросов и разобранных методов работы с MongoDB определите, у скольких пользователей из всей коллекции доступна информация со стены?\n",
    "\n",
    "Подсказки:\n",
    "  - информация со стен находится в коллекции `walls`\n",
    "  - если стена доступна, то документ, соответствующий пользователю содержит поле `response`, иначе — поле `response` отсутствует, а вместо него в поле `error` записана информация об ошибке загрузки информации со стены"
   ]
  }
 ],
 "metadata": {
  "kernelspec": {
   "display_name": "Python 2",
   "language": "python",
   "name": "python2"
  },
  "language_info": {
   "codemirror_mode": {
    "name": "ipython",
    "version": 2
   },
   "file_extension": ".py",
   "mimetype": "text/x-python",
   "name": "python",
   "nbconvert_exporter": "python",
   "pygments_lexer": "ipython2",
   "version": "2.7.8"
  }
 },
 "nbformat": 4,
 "nbformat_minor": 0
}
