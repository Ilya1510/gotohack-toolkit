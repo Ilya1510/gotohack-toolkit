{
 "cells": [
  {
   "cell_type": "markdown",
   "metadata": {},
   "source": [
    "# Работа с текстами\n",
    "\n",
    "_Александр Петров_"
   ]
  },
  {
   "cell_type": "code",
   "execution_count": null,
   "metadata": {
    "collapsed": true
   },
   "outputs": [],
   "source": [
    "import nltk"
   ]
  },
  {
   "cell_type": "markdown",
   "metadata": {},
   "source": [
    "NLTK (Natural Language  - библиотека для работы с текстами на языке python. Книга по NLTK есть по ссылке http://www.nltk.org/book/"
   ]
  },
  {
   "cell_type": "markdown",
   "metadata": {},
   "source": [
    "<h2>Токенизация</h2>\n",
    "<strong>Токенизация</strong> - разбивка текста на <strong>токены</strong>. Токен чаще всего соответствует слову(но не всегда)\n",
    "В nltk за токенизацию отвечает модуль nltk.tokenzie содержащий различные методы разбивки на токены. "
   ]
  },
  {
   "cell_type": "markdown",
   "metadata": {},
   "source": [
    "Простая токенизация:"
   ]
  },
  {
   "cell_type": "code",
   "execution_count": null,
   "metadata": {
    "collapsed": false
   },
   "outputs": [],
   "source": [
    "from nltk.tokenize import wordpunct_tokenize\n",
    "print(wordpunct_tokenize(\"мама мыла раму\"))\n",
    "print(wordpunct_tokenize(\"Ростов-На-Дону\"))"
   ]
  },
  {
   "cell_type": "markdown",
   "metadata": {},
   "source": [
    "Более умная токенизация:"
   ]
  },
  {
   "cell_type": "code",
   "execution_count": null,
   "metadata": {
    "collapsed": false
   },
   "outputs": [],
   "source": [
    "from nltk.tokenize import TreebankWordTokenizer\n",
    "tokenizer = TreebankWordTokenizer()\n",
    "print(tokenizer.tokenize(\"Ростов-На-Дону\"))\n",
    "print(tokenizer.tokenize(\"Мама мыла раму\"))\n"
   ]
  },
  {
   "cell_type": "markdown",
   "metadata": {},
   "source": [
    "Подробно про токенизацию: http://www.nltk.org/api/nltk.tokenize.html"
   ]
  },
  {
   "cell_type": "markdown",
   "metadata": {},
   "source": [
    "<h2>Лемматизация</h2> \n",
    "Приведение слова к \"нормальной\" форме(\"мыла\" -> \"мыть\"). \n",
    "Не всегда однозначно: \"Вина\" -> \"Вина\" или \"Вино\"\n",
    "Для большинства практических применений подходит \"стемминг\" - процесс нахождения основы слова и отброса окончания. В nltk находится nltk.stem\n",
    "Стеммер русского языка находится в модуле <strong>nltk.stem.snowball</strong> и называется <strong>RussianStemmer</strong>"
   ]
  },
  {
   "cell_type": "code",
   "execution_count": null,
   "metadata": {
    "collapsed": false
   },
   "outputs": [],
   "source": [
    "from nltk.stem.snowball import RussianStemmer\n",
    "stemmer = RussianStemmer()\n",
    "for token in tokenizer.tokenize(\"Мама мыла раму\"):\n",
    "    print (stemmer.stem(token))"
   ]
  },
  {
   "cell_type": "markdown",
   "metadata": {},
   "source": [
    "<h2>Частотный анализ</h2>"
   ]
  },
  {
   "cell_type": "markdown",
   "metadata": {},
   "source": [
    "<h3>Мешок слов</h3>\n",
    "Компьютеру очень сложно работать с текстами - понимать смысл, взаимосвязи между словами"
   ]
  },
  {
   "cell_type": "code",
   "execution_count": null,
   "metadata": {
    "collapsed": false
   },
   "outputs": [],
   "source": [
    "from collections import Counter\n",
    "def get_bag_of_the_words(text):\n",
    "    tokens = tokenizer.tokenize(text)\n",
    "    tokens_stemmed = [stemmer.stem(token) for token in tokens]\n",
    "    return Counter(tokens_stemmed)\n",
    "freq = get_bag_of_the_words(\"карл у клары украл кораллы, клара у карла украла кларнет\")\n",
    "freq.most_common()"
   ]
  },
  {
   "cell_type": "code",
   "execution_count": null,
   "metadata": {
    "collapsed": false
   },
   "outputs": [],
   "source": [
    "freq = get_bag_of_the_words(\"\"\"Российские клубы показали худший старт в стадии плей-офф еврокубков за последние 13 лет. «Локомотив» и «Краснодар» уступили в первых матчах 1/16 финала Лиги Европы, а «Зенит» проиграл в 1/8 финала Лиги чемпионов. И ни одна из команд ни разу не поразила ворота соперника. «Лента.ру» размышляет над причинами провала.Игры патриота\n",
    "Первым в еврокубковой весне стартовал столичный «Локомотив». Выездная встреча с «Фенербахче» состоялась в Стамбуле в нетипичный для Лиги Европы вторник. Причина — матч другой команды из крупнейшего города Турции, «Галатасарая», запланированный на четверг.\n",
    "Из-за ухудшения отношений между Москвой и Анкарой к игре было приковано повышенное внимание не только любителей футбола, но и дисциплинарных органов УЕФА. Болельщиков настоятельно призывали отказаться от политических лозунгов и баннеров.\n",
    "В результате с точки зрения фанатской активности все было относительно спокойно. Беда пришла, откуда не ждали. После встречи полузащитник россиян Дмитрий Тарасов продемонстрировал трибунам портрет Владимира Путина на своей футболке, вновь заставив общественность переключиться на обсуждение неспортивных тем.\"\"\")\n",
    "freq.most_common()"
   ]
  },
  {
   "cell_type": "markdown",
   "metadata": {},
   "source": [
    "<h1>TfIdf</h1> (term frequency-inverted document frequency)\n",
    "Так как при преобразовании \"мешок слов\" большой вес имеют предлоги,\n",
    "союзы и другие слова несущие мало смысловой нагрузки - необходимо уменьшить их вес. \n",
    "Это делается при помощи домножения на специальный коэффицент IDF\n",
    "(логарифм обратной частоты встречаемости)"
   ]
  },
  {
   "cell_type": "code",
   "execution_count": null,
   "metadata": {
    "collapsed": true
   },
   "outputs": [],
   "source": []
  },
  {
   "cell_type": "code",
   "execution_count": null,
   "metadata": {
    "collapsed": true
   },
   "outputs": [],
   "source": []
  }
 ],
 "metadata": {
  "kernelspec": {
   "display_name": "Python 2",
   "language": "python",
   "name": "python2"
  },
  "language_info": {
   "codemirror_mode": {
    "name": "ipython",
    "version": 2
   },
   "file_extension": ".py",
   "mimetype": "text/x-python",
   "name": "python",
   "nbconvert_exporter": "python",
   "pygments_lexer": "ipython2",
   "version": "2.7.8"
  }
 },
 "nbformat": 4,
 "nbformat_minor": 0
}
