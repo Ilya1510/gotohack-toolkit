{
 "cells": [
  {
   "cell_type": "markdown",
   "metadata": {},
   "source": [
    "# Привет\n",
    "\n",
    "Это ipython-тетрадка\n",
    "\n",
    "* Тетрадка состоит из клеток. \n",
    "  * В каждой клетке может быть код на Python или текст\n",
    "  \n",
    "  \n",
    "* Клетки с кодом можно выполнять, как в интерпретаторе\n",
    " * Клетку нужно выделить (кликнуть, появится чёрная рамка)\n",
    "   * Ctrl+Enter - выполнить клетку\n",
    "   * Shift+Enter - выполнить и выделить следующую\n",
    "   * Alt+Enter - выполнить и создать клетку ниже\n",
    "   \n",
    " * всё, что печатается (например, командой print) печатается в конце клетки\n",
    " * все переменные после выполнения клетки остаются в интерпретаторе\n",
    " \n",
    "\n",
    "* Наверху есть панель управления\n",
    " * Save или Ctrl+S - сохранить тетрадку (только текст и код)\n",
    " * __+__ - добавить клетку под выделенной\n",
    " * Ножницы - удалить клетку\n",
    " * Знак стоп (квадрат) - прервать выполнение клетки\n",
    " * значёк \"обновить\" - перезапустить тетрадку\n",
    " \n",
    "\n",
    "Для начала, выполни эти 2 клетки."
   ]
  },
  {
   "cell_type": "code",
   "execution_count": null,
   "metadata": {
    "collapsed": true
   },
   "outputs": [],
   "source": [
    "from __future__ import print_function"
   ]
  },
  {
   "cell_type": "code",
   "execution_count": null,
   "metadata": {
    "collapsed": true
   },
   "outputs": [],
   "source": [
    "#объявим 2 переменные\n",
    "a = 5\n",
    "pi = 'Pi'"
   ]
  },
  {
   "cell_type": "code",
   "execution_count": null,
   "metadata": {
    "collapsed": false
   },
   "outputs": [],
   "source": [
    "#напечатаем их произведение\n",
    "print(a*pi)"
   ]
  },
  {
   "cell_type": "markdown",
   "metadata": {},
   "source": [
    "# Данные: первый взгляд\n",
    "* Следующая клетка прочитает небольшую выборку данных"
   ]
  },
  {
   "cell_type": "code",
   "execution_count": null,
   "metadata": {
    "collapsed": false
   },
   "outputs": [],
   "source": [
    "#загрузим небольшую таблицу данных из файла\n",
    "import csv\n",
    "with open(\"./small_demo_dataset.csv\") as f:\n",
    "    data = list(csv.reader(f))\n",
    "    "
   ]
  },
  {
   "cell_type": "code",
   "execution_count": null,
   "metadata": {
    "collapsed": false
   },
   "outputs": [],
   "source": [
    "#выведем формат данных\n",
    "columns,data = data[0],data[1:]\n",
    "columns[0] = \"id\"\n",
    "\n",
    "print (\"Колонки:\", \"\\t\".join(columns))\n",
    "\n",
    "print(\"\\n\\nвсего людей:\",len(data))"
   ]
  },
  {
   "cell_type": "code",
   "execution_count": null,
   "metadata": {
    "collapsed": true
   },
   "outputs": [],
   "source": [
    "#Напечатаем несколько строчек из таблицы данных для примера\n",
    "print(\"\\n\\nПервые 3 строчки:\")\n",
    "\n",
    "for i in range(3):\n",
    "    print('\\t'.join(data[i]))\n"
   ]
  },
  {
   "cell_type": "code",
   "execution_count": null,
   "metadata": {
    "collapsed": false
   },
   "outputs": [],
   "source": [
    "user_0 = data[0]\n",
    "print(\"user_0:\",user_0)\n",
    "print (\"user's age:\", user_0[5])"
   ]
  },
  {
   "cell_type": "code",
   "execution_count": null,
   "metadata": {
    "collapsed": true
   },
   "outputs": [],
   "source": []
  },
  {
   "cell_type": "markdown",
   "metadata": {
    "collapsed": true
   },
   "source": [
    "## Задача - узнать, какие же люди к нам попали\n",
    "* Выведи минимальный, средний и максимальный возраст \n",
    " * возраст - последний элемент строчки данных\n",
    "* Выведи 20 самых популярных статусов"
   ]
  },
  {
   "cell_type": "code",
   "execution_count": null,
   "metadata": {
    "collapsed": true
   },
   "outputs": [],
   "source": [
    "#выведи минимальный, максимальный и средний возраст\n"
   ]
  },
  {
   "cell_type": "code",
   "execution_count": null,
   "metadata": {
    "collapsed": true
   },
   "outputs": [],
   "source": [
    "#выведи 20 самых популярных статусов"
   ]
  },
  {
   "cell_type": "code",
   "execution_count": null,
   "metadata": {
    "collapsed": true
   },
   "outputs": [],
   "source": []
  },
  {
   "cell_type": "markdown",
   "metadata": {},
   "source": [
    "\n",
    "\n",
    "` `\n",
    "\n",
    "\n",
    "` `\n",
    "\n",
    "\n",
    "` `\n",
    "\n",
    "\n",
    "` `\n",
    "\n",
    "\n",
    "` `\n",
    "\n",
    "\n",
    "` `\n",
    "\n",
    "\n",
    "` `\n",
    "\n",
    "\n",
    "` `\n",
    "\n",
    "\n",
    "` `\n",
    "\n",
    "\n",
    "` `\n",
    "\n",
    "\n",
    "` `\n",
    "\n",
    "\n",
    "` `\n",
    "\n",
    "\n",
    "` `\n",
    "\n",
    "\n",
    "` `\n",
    "\n",
    "\n",
    "` `\n",
    "\n",
    "\n",
    "` `\n",
    "\n",
    "\n",
    "` `\n",
    "\n",
    "\n",
    "` `\n",
    "\n",
    "\n",
    "` `\n",
    "\n",
    "\n",
    "` `\n",
    "\n",
    "\n",
    "` `\n",
    "\n",
    "\n",
    "` `\n",
    "\n",
    "\n",
    "` `\n",
    "\n",
    "\n",
    "` `\n",
    "\n",
    "\n",
    "` `\n",
    "\n",
    "\n",
    "` `\n",
    "\n",
    "\n",
    "` `\n",
    "\n",
    "\n",
    "` `\n",
    "\n",
    "\n",
    "` `\n",
    "\n",
    "\n",
    "` `\n",
    "\n",
    "\n",
    "# Если ты всё сделал, и остался ещё вагон времени -\n",
    "* Посчитай, как интересы и статус зависят от возраста и пола\n",
    " * Какие самые популярные интересы у парней и девушек 16,17 и 18 лет соответственно\n",
    " * Чем они отличаются друг от друга\n",
    "\n",
    "\n",
    "Интересы указаны в колонке hobbies через запятую в одной строке"
   ]
  },
  {
   "cell_type": "code",
   "execution_count": null,
   "metadata": {
    "collapsed": true
   },
   "outputs": [],
   "source": []
  }
 ],
 "metadata": {
  "kernelspec": {
   "display_name": "Python 2",
   "language": "python",
   "name": "python2"
  },
  "language_info": {
   "codemirror_mode": {
    "name": "ipython",
    "version": 2
   },
   "file_extension": ".py",
   "mimetype": "text/x-python",
   "name": "python",
   "nbconvert_exporter": "python",
   "pygments_lexer": "ipython2",
   "version": "2.7.6"
  }
 },
 "nbformat": 4,
 "nbformat_minor": 0
}
