{
 "cells": [
  {
   "cell_type": "markdown",
   "metadata": {
    "collapsed": true
   },
   "source": [
    "# Визуализация данных\n",
    "Что делать с миллионом пользователей?"
   ]
  },
  {
   "cell_type": "markdown",
   "metadata": {},
   "source": [
    "## У нас есть:\n",
    "\n",
    "* Пользователи – 10^6 штук\n",
    "\n",
    "\n",
    "* вопрос\n",
    " * Как меняется количество друзей с возрастом?\n",
    " * Сколько в сети активных, обычных и неактивных пользователей.\n",
    " * И сколько постов в неделю они пишут?\n",
    " * Как меняется аудитория сети со временем?\n",
    "\n",
    "\n",
    "* Пол часа времени\n"
   ]
  },
  {
   "cell_type": "code",
   "execution_count": null,
   "metadata": {
    "collapsed": false
   },
   "outputs": [],
   "source": [
    "import pandas as pd\n",
    "#загрузим уже известный вам датасет про титаник\n",
    "df = pd.read_csv(\"titanic.csv\")"
   ]
  },
  {
   "cell_type": "code",
   "execution_count": null,
   "metadata": {
    "collapsed": false
   },
   "outputs": [],
   "source": [
    "df[:10]"
   ]
  },
  {
   "cell_type": "markdown",
   "metadata": {},
   "source": [
    "## Что можно сделать?\n",
    "* Посчитать аггрегации\n",
    "  * Среднее, отклонения, квантили\n",
    "  * И ещё много умных слов\n"
   ]
  },
  {
   "cell_type": "markdown",
   "metadata": {},
   "source": [
    "![caption](images/salaries.png)"
   ]
  },
  {
   "cell_type": "markdown",
   "metadata": {},
   "source": [
    "![caption](images/enscomb-table.png)"
   ]
  },
  {
   "cell_type": "markdown",
   "metadata": {
    "collapsed": true
   },
   "source": [
    "![caption](images/enscomb-charts.png)"
   ]
  },
  {
   "cell_type": "markdown",
   "metadata": {},
   "source": [
    "## Давайте строить графики!\n",
    " * Понятна структура\n",
    " * Больше информации\n",
    " * Видны аномалии"
   ]
  },
  {
   "cell_type": "code",
   "execution_count": null,
   "metadata": {
    "collapsed": true
   },
   "outputs": [],
   "source": [
    "#библиотека для графиков\n",
    "import matplotlib.pyplot as plt\n",
    "%matplotlib inline"
   ]
  },
  {
   "cell_type": "markdown",
   "metadata": {},
   "source": [
    "# Line plot\n",
    "\n",
    "* На графике изображены линии\n",
    " * зависимость y(x) заданная по точкам\n",
    " \n",
    "\n",
    "* подходит для отображения временных рядов или порядка на данных"
   ]
  },
  {
   "cell_type": "code",
   "execution_count": null,
   "metadata": {
    "collapsed": false
   },
   "outputs": [],
   "source": [
    "\n",
    "#по x - порядковый номер пассажира по возрастанию возраста\n",
    "x = range(len(df))\n",
    "\n",
    "# по y - сам возраст\n",
    "y = sorted(df[\"Age\"].values)\n",
    "\n",
    "plt.plot( x, y )"
   ]
  },
  {
   "cell_type": "markdown",
   "metadata": {},
   "source": [
    "### Построй аналогичный график для цены билета \n",
    "* `df[\"Fare\"].values`"
   ]
  },
  {
   "cell_type": "code",
   "execution_count": null,
   "metadata": {
    "collapsed": false
   },
   "outputs": [],
   "source": [
    "#по x - порядковый номер пассажира по возрастанию цены билета (Fare)\n",
    "x = range(len(df))\n",
    "\n",
    "#по y - сама цена билета\n",
    "y = <массив из цен билетов в порядке их возрастания>\n",
    "\n",
    "<функция построения графика>"
   ]
  },
  {
   "cell_type": "code",
   "execution_count": null,
   "metadata": {
    "collapsed": false
   },
   "outputs": [],
   "source": [
    "# можно показывать несколько графиков \n",
    "\n",
    "#например, отдельные кривые для разных полов, портов и т.п.\n",
    "\n",
    "#выделим в отдельные таблицы мужчин и женщин\n",
    "df_male = df[df.Sex==\"male\"]\n",
    "df_female = df[df.Sex==\"female\"]\n",
    "\n",
    "\n",
    "#получаем массивы x и y\n",
    "#дамы вперёд\n",
    "x_female= range(len(df_female))\n",
    "y_female= sorted(df_female.Age)\n",
    "\n",
    "\n",
    "x_male= range(len(df_male))\n",
    "y_male= sorted(df_male.Age)"
   ]
  },
  {
   "cell_type": "code",
   "execution_count": null,
   "metadata": {
    "collapsed": false
   },
   "outputs": [],
   "source": [
    "#рисуем графики\n",
    "plt.plot(x_female,y_female,label=u\"Males\")\n",
    "plt.plot(x_male,y_male,label=u\"Females\")\n",
    "\n",
    "#отобразить названия линий (label)\n",
    "plt.legend()\n",
    "\n",
    "#добавляем название графика\n",
    "plt.title(\"Age curves\")\n",
    "\n"
   ]
  },
  {
   "cell_type": "markdown",
   "metadata": {},
   "source": [
    "# Scatter plot\n",
    " * График из точек по (x,y)\n",
    " \n",
    " * хорошо показывает структуру данных\n",
    " \n",
    " * плохо передаёт плотность\n",
    " \n",
    " * На подумать - можно ли отобразить больше 2 размерностей на плоском Scatter plot?\n",
    "   * Как это сделать?\n",
    "   * Какое наибольшее число размерностей можно уместить?"
   ]
  },
  {
   "cell_type": "code",
   "execution_count": null,
   "metadata": {
    "collapsed": false
   },
   "outputs": [],
   "source": [
    "x = df.Age\n",
    "y = df.Fare\n",
    "plt.scatter(x,y)\n",
    "\n",
    "#подпишем оси\n",
    "plt.xlabel(\"Age\")\n",
    "plt.ylabel(\"Ticket cost\")"
   ]
  },
  {
   "cell_type": "markdown",
   "metadata": {},
   "source": [
    "##### Для более наглядного отображения плотностиможно использовать полупрозрачные точки"
   ]
  },
  {
   "cell_type": "code",
   "execution_count": null,
   "metadata": {
    "collapsed": false
   },
   "outputs": [],
   "source": [
    "x = df.Age\n",
    "y = df.Fare\n",
    "plt.scatter(x,y, alpha = 0.1) #изменения только в этой строчке\n",
    "\n",
    "#подпишем оси\n",
    "plt.xlabel(\"Age\")\n",
    "plt.ylabel(\"Ticket cost\")"
   ]
  },
  {
   "cell_type": "markdown",
   "metadata": {},
   "source": [
    "##### Один из способов добавить третье измерение - цвет"
   ]
  },
  {
   "cell_type": "code",
   "execution_count": null,
   "metadata": {
    "collapsed": false
   },
   "outputs": [],
   "source": [
    "#в качестве цвета укажем, выжил ли человек\n",
    "color = df.Survived\n",
    "plt.scatter(df.Age,df.Fare,alpha = 0.5, c = color)"
   ]
  },
  {
   "cell_type": "code",
   "execution_count": null,
   "metadata": {
    "collapsed": false
   },
   "outputs": [],
   "source": [
    "#то же самое другим способом\n",
    "\n",
    "survived = df.Survived == 1\n",
    "\n",
    "\n",
    "plt.scatter(df[survived].Age,df[survived].Fare,alpha = 0.25, c = \"blue\")\n",
    "plt.scatter(df[~survived].Age,df[~survived].Fare,alpha = 0.25, c = \"red\")"
   ]
  },
  {
   "cell_type": "markdown",
   "metadata": {},
   "source": [
    "### Построй Scatter-plot зависимости числа родственников на корабле от возраста\n",
    " * Число росдтвенников - `df[\"SibSp\"]`"
   ]
  },
  {
   "cell_type": "code",
   "execution_count": null,
   "metadata": {
    "collapsed": false
   },
   "outputs": [],
   "source": [
    "x= возраст\n",
    "y = число родственников на корабле\n",
    "\n",
    "<функция построения графика>"
   ]
  },
  {
   "cell_type": "markdown",
   "metadata": {},
   "source": [
    "# Гистограммы (Histograms)\n",
    " * данные делятся на интервалы (бины)\n",
    " * для каждого интервала считается, сколько точек попало в этот интервал\n",
    " * На графике показываются столбцы, соответствующие интервалам\n",
    "  * высота столбца пропорциональна числу попавших в него точек\n",
    "  \n",
    " * хорошо подходят для отображения плотности данных\n",
    " * требуют зафиксировать интервал\n",
    "  * при слижком большом интервале становятся трудноинтерпретируемы\n",
    "  * при слижком  малом - не демонстрируют низкоуровневую структуру данных"
   ]
  },
  {
   "cell_type": "code",
   "execution_count": null,
   "metadata": {
    "collapsed": false
   },
   "outputs": [],
   "source": [
    "#гистограмма возрастов\n",
    "plt.hist(df.Age.values)"
   ]
  },
  {
   "cell_type": "code",
   "execution_count": null,
   "metadata": {
    "collapsed": false
   },
   "outputs": [],
   "source": [
    "#изменяем количество интервалов (\"бинов\")\n",
    "_ = plt.hist(df.Age.values, bins=5)\n",
    "\n",
    "plt.show() #завершить предыдущий график и начать новый\n",
    "\n",
    "_ = plt.hist(df.Age.values, bins=50)\n",
    "\n",
    "plt.show() #завершить предыдущий график и начать новый\n",
    "\n",
    "_ = plt.hist(df.Age.values, bins=500)\n"
   ]
  },
  {
   "cell_type": "markdown",
   "metadata": {},
   "source": [
    "### Построй гистограмму цен\n",
    " * Подбери оптимальное количество бинов\n",
    " * Попробуй построить отдельные гистограммы для мужчин и женщин"
   ]
  },
  {
   "cell_type": "code",
   "execution_count": null,
   "metadata": {
    "collapsed": false
   },
   "outputs": [],
   "source": [
    "<построй гистограмму цен>"
   ]
  },
  {
   "cell_type": "code",
   "execution_count": null,
   "metadata": {
    "collapsed": false
   },
   "outputs": [],
   "source": [
    "<построй две гистограммы цен для мужчин и женщин>"
   ]
  },
  {
   "cell_type": "code",
   "execution_count": null,
   "metadata": {
    "collapsed": true
   },
   "outputs": [],
   "source": []
  },
  {
   "cell_type": "markdown",
   "metadata": {},
   "source": [
    "# интерактивные графики !\n",
    "\n",
    "* Можно приближать, выделять, дёргать не меняя код,\n",
    "\n",
    "* Способ компактно показать много информации,\n",
    "\n",
    "* Главное – не перестараться (об этом чуть позже)\n",
    "\n",
    "\n",
    "\n",
    "\n",
    "## Plotly\n",
    " * может практически всё\n",
    " * интерактивные графики, 3D графики\n",
    " * примеры - https://plot.ly/python/#basic-charts\n",
    " * строится \"в облаке\" и требует залогиниться\n",
    " * бесплатно даёт построить не более 50 графиков в день\n",
    " \n",
    " \n",
    " * Пример - тык https://plot.ly/python/3d-scatter-plots/\n",
    " \n",
    " \n",
    " \n",
    "## Bokeh\n",
    " * может всё то же, что и Plotly кроме простого 3D\n",
    " * примеры - http://nbviewer.jupyter.org/github/bokeh/bokeh-notebooks/blob/master/index.ipynb\n",
    " * всё строится без участия внешних ресурсов\n"
   ]
  },
  {
   "cell_type": "code",
   "execution_count": null,
   "metadata": {
    "collapsed": false
   },
   "outputs": [],
   "source": [
    "import interactive_examples"
   ]
  },
  {
   "cell_type": "code",
   "execution_count": null,
   "metadata": {
    "collapsed": false
   },
   "outputs": [],
   "source": [
    "import plotly\n",
    "\n",
    "import plotly.tools as tls \n",
    "tls.embed(\"https://plot.ly/~streaming-demos/4\")"
   ]
  }
 ],
 "metadata": {
  "kernelspec": {
   "display_name": "Python 2",
   "language": "python",
   "name": "python2"
  },
  "language_info": {
   "codemirror_mode": {
    "name": "ipython",
    "version": 2
   },
   "file_extension": ".py",
   "mimetype": "text/x-python",
   "name": "python",
   "nbconvert_exporter": "python",
   "pygments_lexer": "ipython2",
   "version": "2.7.6"
  }
 },
 "nbformat": 4,
 "nbformat_minor": 0
}
